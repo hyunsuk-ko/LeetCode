{
 "cells": [
  {
   "cell_type": "markdown",
   "metadata": {},
   "source": [
    "## Q1: LeetCode #1 Two Sum\n",
    "https://leetcode.com/problems/two-sum/\n",
    "\n",
    "https://www.youtube.com/watch?v=KLlXCFG5TnA"
   ]
  },
  {
   "cell_type": "code",
   "execution_count": 1,
   "metadata": {},
   "outputs": [],
   "source": [
    "# O(n) time complexity using HashMap\n",
    "def twoSum(nums, target):\n",
    "    prevMap = dict()\n",
    "    \n",
    "    for i, n in enumerate(nums):\n",
    "        diff = target - n\n",
    "        if diff in prevMap:\n",
    "            return [prevMap[diff], i]\n",
    "        prevMap[n] = i"
   ]
  },
  {
   "cell_type": "code",
   "execution_count": 2,
   "metadata": {},
   "outputs": [
    {
     "data": {
      "text/plain": [
       "[0, 1]"
      ]
     },
     "execution_count": 2,
     "metadata": {},
     "output_type": "execute_result"
    }
   ],
   "source": [
    "nums = [2,7,11,15]\n",
    "target = 9\n",
    "twoSum(nums, target)"
   ]
  },
  {
   "cell_type": "code",
   "execution_count": 3,
   "metadata": {},
   "outputs": [
    {
     "data": {
      "text/plain": [
       "[1, 2]"
      ]
     },
     "execution_count": 3,
     "metadata": {},
     "output_type": "execute_result"
    }
   ],
   "source": [
    "nums = [3,2,4]\n",
    "target = 6\n",
    "twoSum(nums, target)"
   ]
  },
  {
   "cell_type": "markdown",
   "metadata": {},
   "source": [
    "## Q2: LeetCode #125 Maximum 69 Number\n",
    "https://leetcode.com/problems/maximum-69-number/"
   ]
  },
  {
   "cell_type": "code",
   "execution_count": 1,
   "metadata": {},
   "outputs": [],
   "source": [
    "def maximum69Number(num):\n",
    "    nums = [*str(num)]\n",
    "    if '6' not in nums:\n",
    "        return num\n",
    "    idx = nums.index('6')\n",
    "    nums[idx] = '9'\n",
    "    return int(''.join(nums))"
   ]
  },
  {
   "cell_type": "code",
   "execution_count": 2,
   "metadata": {},
   "outputs": [
    {
     "data": {
      "text/plain": [
       "9969"
      ]
     },
     "execution_count": 2,
     "metadata": {},
     "output_type": "execute_result"
    }
   ],
   "source": [
    "num = 9669\n",
    "maximum69Number(num)"
   ]
  },
  {
   "cell_type": "code",
   "execution_count": 3,
   "metadata": {},
   "outputs": [
    {
     "data": {
      "text/plain": [
       "9999"
      ]
     },
     "execution_count": 3,
     "metadata": {},
     "output_type": "execute_result"
    }
   ],
   "source": [
    "num = 9996\n",
    "maximum69Number(num)"
   ]
  },
  {
   "cell_type": "code",
   "execution_count": 4,
   "metadata": {},
   "outputs": [
    {
     "data": {
      "text/plain": [
       "9999"
      ]
     },
     "execution_count": 4,
     "metadata": {},
     "output_type": "execute_result"
    }
   ],
   "source": [
    "num = 9999\n",
    "maximum69Number(num)"
   ]
  },
  {
   "cell_type": "markdown",
   "metadata": {},
   "source": [
    "## Q3: LeetCode #2160 Minimum Sum of four Digit Numbers After Splitting Digits\n",
    "https://leetcode.com/problems/minimum-sum-of-four-digit-number-after-splitting-digits/"
   ]
  },
  {
   "cell_type": "code",
   "execution_count": 8,
   "metadata": {},
   "outputs": [],
   "source": [
    "def minimumSum(num):\n",
    "    num1, num2 = \"\", \"\"\n",
    "    count = 0\n",
    "    \n",
    "    for letter in sorted([*str(num)]):\n",
    "        if count % 2 == 0:\n",
    "            num1 += letter\n",
    "        else:\n",
    "            num2 += letter\n",
    "        count += 1\n",
    "    return int(num1) + int(num2)"
   ]
  },
  {
   "cell_type": "code",
   "execution_count": 9,
   "metadata": {},
   "outputs": [
    {
     "data": {
      "text/plain": [
       "52"
      ]
     },
     "execution_count": 9,
     "metadata": {},
     "output_type": "execute_result"
    }
   ],
   "source": [
    "num = 2932\n",
    "minimumSum(num)"
   ]
  },
  {
   "cell_type": "code",
   "execution_count": 10,
   "metadata": {},
   "outputs": [
    {
     "data": {
      "text/plain": [
       "13"
      ]
     },
     "execution_count": 10,
     "metadata": {},
     "output_type": "execute_result"
    }
   ],
   "source": [
    "num = 4009\n",
    "minimumSum(num)"
   ]
  },
  {
   "cell_type": "markdown",
   "metadata": {},
   "source": [
    "## Q4: LeetCode #121 Best Time to Buy and Sell Stock\n",
    "https://leetcode.com/problems/best-time-to-buy-and-sell-stock/"
   ]
  },
  {
   "cell_type": "code",
   "execution_count": 13,
   "metadata": {},
   "outputs": [],
   "source": [
    "import math\n",
    "\n",
    "def maxProfit(prices):\n",
    "    '''\n",
    "    The points of interest are the peaks and valleys in the given graph. \n",
    "    For every element, we are calculating the difference between that element and \n",
    "    the minimum of all the values before that element and we are updating \n",
    "    the maximum profit if the difference thus found is greater than the current maximum profit.\n",
    "    '''\n",
    "        \n",
    "    min_price = math.inf\n",
    "    max_profit = 0\n",
    "    \n",
    "    for i in range(len(prices)):\n",
    "        if prices[i] < min_price:\n",
    "            min_price = prices[i]\n",
    "        elif max_profit < prices[i] - min_price:\n",
    "            max_profit = prices[i] - min_price\n",
    "    return max_profit"
   ]
  },
  {
   "cell_type": "code",
   "execution_count": 14,
   "metadata": {},
   "outputs": [
    {
     "data": {
      "text/plain": [
       "5"
      ]
     },
     "execution_count": 14,
     "metadata": {},
     "output_type": "execute_result"
    }
   ],
   "source": [
    "prices = [7,1,5,3,6,4]\n",
    "maxProfit(prices)"
   ]
  },
  {
   "cell_type": "code",
   "execution_count": 15,
   "metadata": {},
   "outputs": [
    {
     "data": {
      "text/plain": [
       "0"
      ]
     },
     "execution_count": 15,
     "metadata": {},
     "output_type": "execute_result"
    }
   ],
   "source": [
    "prices = [7,6,4,3,1]\n",
    "maxProfit(prices)"
   ]
  },
  {
   "cell_type": "markdown",
   "metadata": {},
   "source": [
    "## Q5: LeetCode #125 Valid Palindrome\n",
    "https://leetcode.com/problems/valid-palindrome/"
   ]
  },
  {
   "cell_type": "code",
   "execution_count": 16,
   "metadata": {},
   "outputs": [],
   "source": [
    "def isPalindrome(s):\n",
    "    concat_str = \"\"\n",
    "    for letter in [*s]:\n",
    "        if letter.isalpha():\n",
    "            concat_str += letter.lower()\n",
    "        elif letter.isnumeric():\n",
    "            concat_str += letter\n",
    "    return concat_str == concat_str[::-1]"
   ]
  },
  {
   "cell_type": "code",
   "execution_count": 17,
   "metadata": {},
   "outputs": [
    {
     "data": {
      "text/plain": [
       "True"
      ]
     },
     "execution_count": 17,
     "metadata": {},
     "output_type": "execute_result"
    }
   ],
   "source": [
    "s = \"A man, a plan, a canal: Panama\"\n",
    "isPalindrome(s)"
   ]
  },
  {
   "cell_type": "code",
   "execution_count": 18,
   "metadata": {},
   "outputs": [
    {
     "data": {
      "text/plain": [
       "False"
      ]
     },
     "execution_count": 18,
     "metadata": {},
     "output_type": "execute_result"
    }
   ],
   "source": [
    "s = \"race a car\"\n",
    "isPalindrome(s)"
   ]
  },
  {
   "cell_type": "markdown",
   "metadata": {},
   "source": [
    "## Q6: LeetCode #409 Longest Palindrome\n",
    "https://leetcode.com/problems/longest-palindrome/"
   ]
  },
  {
   "cell_type": "code",
   "execution_count": 19,
   "metadata": {},
   "outputs": [],
   "source": [
    "from collections import Counter\n",
    "\n",
    "def longestPalindrome(s):\n",
    "    count_dict = Counter(s)\n",
    "    length = 0\n",
    "    hasOdd = False\n",
    "    \n",
    "    for num in sorted(count_dict.values(), reverse = True):\n",
    "        if num % 2 == 0:\n",
    "            length += num\n",
    "        else:\n",
    "            if hasOdd == False:\n",
    "                length += num\n",
    "                hasOdd = True\n",
    "            else:\n",
    "                # if odd length letter has already been added,\n",
    "                # the rest of the odd length letter should be added \n",
    "                # maximum number of times, thus (num - 1)\n",
    "                length += (num - 1)\n",
    "    return length"
   ]
  },
  {
   "cell_type": "code",
   "execution_count": 20,
   "metadata": {},
   "outputs": [
    {
     "data": {
      "text/plain": [
       "7"
      ]
     },
     "execution_count": 20,
     "metadata": {},
     "output_type": "execute_result"
    }
   ],
   "source": [
    "s = \"abccccdd\"\n",
    "longestPalindrome(s)"
   ]
  },
  {
   "cell_type": "markdown",
   "metadata": {},
   "source": [
    "## Q7: LeetCode #409 Make Array Zero by Subtacting Equal Amounts\n",
    "https://leetcode.com/problems/make-array-zero-by-subtracting-equal-amounts/\n",
    "\n",
    "You are given a non-negative integer array `nums`. In one operation, you must:\n",
    "\n",
    "- Choose a positive integer `x` such that `x` is less than or equal to the smallest non-zero element in nums.\n",
    "- Subtract `x` from every positive element in `nums`.\n",
    "\n",
    "Return the minimum number of operations to make every element in `nums` equal to 0."
   ]
  },
  {
   "cell_type": "code",
   "execution_count": 23,
   "metadata": {},
   "outputs": [],
   "source": [
    "import math\n",
    "\n",
    "# BRUTE FORCE APPROACH: O(n^2)\n",
    "\n",
    "def minimumOperations(nums):\n",
    "    if set(nums) == {0}:\n",
    "        return 0\n",
    "    \n",
    "    result = 0\n",
    "    min_num = math.inf\n",
    "    \n",
    "    while set(nums) != {0}:\n",
    "        for num in sorted(nums):\n",
    "            if num > 0:\n",
    "                x = num\n",
    "                break\n",
    "                \n",
    "        for i in range(len(nums)):\n",
    "            if nums[i] > 0:\n",
    "                nums[i] -= x\n",
    "                \n",
    "        result += 1\n",
    "    return result"
   ]
  },
  {
   "cell_type": "code",
   "execution_count": 22,
   "metadata": {},
   "outputs": [
    {
     "data": {
      "text/plain": [
       "3"
      ]
     },
     "execution_count": 22,
     "metadata": {},
     "output_type": "execute_result"
    }
   ],
   "source": [
    "nums = [1,5,0,3,5]\n",
    "minimumOperations(nums)"
   ]
  },
  {
   "cell_type": "code",
   "execution_count": 25,
   "metadata": {},
   "outputs": [],
   "source": [
    "# O(n)\n",
    "def minimumOperations(nums):\n",
    "    # if we have [1, 5, 0, 3, 5]\n",
    "    # we only have to consider [1, 3, 5]\n",
    "    # which is the length of [1, 3, 5]\n",
    "    # therefore 3.\n",
    "    return len(set(nums) - {0})"
   ]
  },
  {
   "cell_type": "code",
   "execution_count": 26,
   "metadata": {},
   "outputs": [
    {
     "data": {
      "text/plain": [
       "3"
      ]
     },
     "execution_count": 26,
     "metadata": {},
     "output_type": "execute_result"
    }
   ],
   "source": [
    "nums = [1,5,0,3,5]\n",
    "minimumOperations(nums)"
   ]
  },
  {
   "cell_type": "markdown",
   "metadata": {},
   "source": [
    "## Q8: LeetCode #1217 Minimum Cost to Move Chips to the Same Position\n",
    "https://leetcode.com/problems/minimum-cost-to-move-chips-to-the-same-position/\n",
    "\n",
    "We have n chips, where the position of the ith chip is `position[i]`.\n",
    "\n",
    "We need to move all the chips to the same position. In one step, we can change the position of the ith chip from `position[i]` to:\n",
    "\n",
    "- `position[i] + 2` or `position[i] - 2` with cost = 0.\n",
    "- `position[i] + 1` or `position[i] - 1` with cost = 1.\n",
    "\n",
    "Return the minimum cost needed to move all the chips to the same position."
   ]
  },
  {
   "cell_type": "code",
   "execution_count": 27,
   "metadata": {},
   "outputs": [],
   "source": [
    "def MinCostToMoveChips(position):\n",
    "    if not position or len(set(position)) == 1:\n",
    "        return 0\n",
    "    \n",
    "    count = dict()\n",
    "    \n",
    "    # since the cost form position = position - 2 = 0\n",
    "    # just get the modulus of position[i]\n",
    "    # so only position and 1 exist.\n",
    "    \n",
    "    for i in range(len(position)):\n",
    "        if position[i] % 2 not in count:\n",
    "            count[position[i] % 2] = 1\n",
    "        else:\n",
    "            count[position[i] % 2] += 1\n",
    "    print(count)\n",
    "    \n",
    "    if count[0] < count[1]:\n",
    "        return count[0]\n",
    "    else:\n",
    "        return count[1]"
   ]
  },
  {
   "cell_type": "code",
   "execution_count": 28,
   "metadata": {},
   "outputs": [
    {
     "name": "stdout",
     "output_type": "stream",
     "text": [
      "{1: 2, 0: 1}\n"
     ]
    },
    {
     "data": {
      "text/plain": [
       "1"
      ]
     },
     "execution_count": 28,
     "metadata": {},
     "output_type": "execute_result"
    }
   ],
   "source": [
    "position = [1,2,3]\n",
    "MinCostToMoveChips(position)"
   ]
  },
  {
   "cell_type": "code",
   "execution_count": 29,
   "metadata": {},
   "outputs": [
    {
     "name": "stdout",
     "output_type": "stream",
     "text": [
      "{0: 3, 1: 2}\n"
     ]
    },
    {
     "data": {
      "text/plain": [
       "2"
      ]
     },
     "execution_count": 29,
     "metadata": {},
     "output_type": "execute_result"
    }
   ],
   "source": [
    "position = [2,2,2,3,3]\n",
    "MinCostToMoveChips(position)"
   ]
  },
  {
   "cell_type": "code",
   "execution_count": 30,
   "metadata": {},
   "outputs": [
    {
     "name": "stdout",
     "output_type": "stream",
     "text": [
      "{1: 1, 0: 1}\n"
     ]
    },
    {
     "data": {
      "text/plain": [
       "1"
      ]
     },
     "execution_count": 30,
     "metadata": {},
     "output_type": "execute_result"
    }
   ],
   "source": [
    "position = [1,1000000000]\n",
    "MinCostToMoveChips(position)"
   ]
  },
  {
   "cell_type": "markdown",
   "metadata": {},
   "source": [
    "## Q9: LeetCode #2389 Longest Subsequence with Limited Sum\n",
    "https://leetcode.com/problems/longest-subsequence-with-limited-sum/\n",
    "\n",
    "You are given an integer array `nums` of length `n`, and an integer array `queries` of length `m`.\n",
    "\n",
    "Return an array answer of length m where `answer[i]` is the maximum size of a subsequence that you can take from `nums` such that the sum of its elements is less than or equal to `queries[i]`.\n",
    "\n",
    "A subsequence is an array that can be derived from another array by deleting some or no elements without changing the order of the remaining elements."
   ]
  },
  {
   "cell_type": "code",
   "execution_count": 38,
   "metadata": {},
   "outputs": [],
   "source": [
    "import itertools\n",
    "from bisect import bisect_right\n",
    "\n",
    "def answerQueries(nums, queries):\n",
    "    # calculate the cumsum of nums\n",
    "    A = list(itertools.accumulate(sorted(nums)))\n",
    "    print(\"A:\", A)\n",
    "    \n",
    "    # return the index of cumsum = maximum size\n",
    "    return [bisect_right(A,q) for q in queries]"
   ]
  },
  {
   "cell_type": "code",
   "execution_count": 39,
   "metadata": {},
   "outputs": [
    {
     "name": "stdout",
     "output_type": "stream",
     "text": [
      "A: [1, 3, 7, 12]\n"
     ]
    },
    {
     "data": {
      "text/plain": [
       "[2, 3, 4]"
      ]
     },
     "execution_count": 39,
     "metadata": {},
     "output_type": "execute_result"
    }
   ],
   "source": [
    "nums = [4,5,2,1]\n",
    "queries = [3,10,21]\n",
    "answerQueries(nums, queries)"
   ]
  },
  {
   "cell_type": "code",
   "execution_count": 40,
   "metadata": {},
   "outputs": [
    {
     "name": "stdout",
     "output_type": "stream",
     "text": [
      "A: [2, 5, 9, 14]\n"
     ]
    },
    {
     "data": {
      "text/plain": [
       "[0]"
      ]
     },
     "execution_count": 40,
     "metadata": {},
     "output_type": "execute_result"
    }
   ],
   "source": [
    "nums = [2,3,4,5]\n",
    "queries = [1]\n",
    "answerQueries(nums, queries)"
   ]
  },
  {
   "cell_type": "markdown",
   "metadata": {},
   "source": [
    "## Q10: LeetCode #1221 Split a String in Balanced Strings\n",
    "https://leetcode.com/problems/split-a-string-in-balanced-strings/\n",
    "\n",
    "Balanced strings are those that have an equal quantity of 'L' and 'R' characters.\n",
    "\n",
    "Given a balanced string s, split it into some number of substrings such that:\n",
    "\n",
    "- Each substring is balanced.\n",
    "\n",
    "- Return the maximum number of balanced strings you can obtain."
   ]
  },
  {
   "cell_type": "code",
   "execution_count": 41,
   "metadata": {},
   "outputs": [],
   "source": [
    "def balancedStringSplit(s):\n",
    "    result = left = right = 0\n",
    "    \n",
    "    for letter in s:\n",
    "        if letter == \"L\":\n",
    "            left += 1\n",
    "        else:\n",
    "            right += 1\n",
    "        \n",
    "        if left == right:\n",
    "            result += 1\n",
    "    return result"
   ]
  },
  {
   "cell_type": "code",
   "execution_count": 42,
   "metadata": {},
   "outputs": [
    {
     "data": {
      "text/plain": [
       "4"
      ]
     },
     "execution_count": 42,
     "metadata": {},
     "output_type": "execute_result"
    }
   ],
   "source": [
    "s = \"RLRRLLRLRL\"\n",
    "balancedStringSplit(s)"
   ]
  },
  {
   "cell_type": "code",
   "execution_count": 43,
   "metadata": {},
   "outputs": [
    {
     "data": {
      "text/plain": [
       "2"
      ]
     },
     "execution_count": 43,
     "metadata": {},
     "output_type": "execute_result"
    }
   ],
   "source": [
    "s = \"RLRRRLLRLL\"\n",
    "balancedStringSplit(s)"
   ]
  },
  {
   "cell_type": "code",
   "execution_count": 44,
   "metadata": {},
   "outputs": [
    {
     "data": {
      "text/plain": [
       "1"
      ]
     },
     "execution_count": 44,
     "metadata": {},
     "output_type": "execute_result"
    }
   ],
   "source": [
    "s = \"LLLLRRRR\"\n",
    "balancedStringSplit(s)"
   ]
  },
  {
   "cell_type": "markdown",
   "metadata": {},
   "source": [
    "## Q11: LeetCode #1827 Minimum Operations to Make the Array Increasing\n",
    "https://leetcode.com/problems/minimum-operations-to-make-the-array-increasing/\n",
    "\n",
    "You are given an integer array nums (0-indexed). In one operation, you can choose an element of the array and increment it by 1.\n",
    "\n",
    "- For example, if `nums = [1,2,3]`, you can choose to increment `nums[1]` to make `nums = [1,3,3]`.\n",
    "\n",
    "Return the minimum number of operations needed to make nums strictly increasing.\n",
    "\n",
    "An array nums is strictly increasing if `nums[i] < nums[i+1]` for all 0 <= i < nums.length - 1. An array of length 1 is trivially strictly increasing."
   ]
  },
  {
   "cell_type": "code",
   "execution_count": 5,
   "metadata": {},
   "outputs": [],
   "source": [
    "def minOperations(nums):\n",
    "    if len(nums) < 2:\n",
    "        return 0\n",
    "    \n",
    "    result = 0\n",
    "    for i in range(1, len(nums)):\n",
    "        # if the previous integer is greather than or equal to current integer\n",
    "        if nums[i-1] >= nums[i]:\n",
    "            # increment the result by the subtract of the two + 1\n",
    "            result += (nums[i-1] - nums[i] + 1)\n",
    "            \n",
    "            # current integer = previous integer + 1\n",
    "            nums[i] += (nums[i-1] - nums[i] + 1)\n",
    "    return result"
   ]
  },
  {
   "cell_type": "code",
   "execution_count": 6,
   "metadata": {},
   "outputs": [
    {
     "data": {
      "text/plain": [
       "3"
      ]
     },
     "execution_count": 6,
     "metadata": {},
     "output_type": "execute_result"
    }
   ],
   "source": [
    "nums = [1,1,1]\n",
    "minOperations(nums)"
   ]
  },
  {
   "cell_type": "code",
   "execution_count": 7,
   "metadata": {},
   "outputs": [
    {
     "data": {
      "text/plain": [
       "14"
      ]
     },
     "execution_count": 7,
     "metadata": {},
     "output_type": "execute_result"
    }
   ],
   "source": [
    "nums = [1,5,2,4,1]\n",
    "minOperations(nums)"
   ]
  },
  {
   "cell_type": "markdown",
   "metadata": {},
   "source": [
    "## Q12: LeetCode #976 Largest Perimeter Triangle\n",
    "https://leetcode.com/problems/largest-perimeter-triangle/\n",
    "\n",
    "Given an integer array `nums`, return the largest perimeter of a triangle with a non-zero area, formed from three of these lengths. If it is impossible to form any triangle of a non-zero area, return `0`."
   ]
  },
  {
   "cell_type": "code",
   "execution_count": 16,
   "metadata": {},
   "outputs": [],
   "source": [
    "def largestPerimeter(nums):\n",
    "    max_length = 0\n",
    "    # sort num first.\n",
    "    nums = sorted(nums)\n",
    "    print(\"sorted result:\", nums)\n",
    "    print()\n",
    "    \n",
    "    # iterate at least once.\n",
    "    while len(nums) >= 3:\n",
    "        # start off with three largest integers\n",
    "        two_sum = sum(nums[-3:-1])\n",
    "        max_val = nums[-1]\n",
    "        \n",
    "        print(f\"comparing {nums[-3]} + {nums[-2]} = {two_sum} with {max_val}\")\n",
    "        \n",
    "        # if the sum of second, third largest ints\n",
    "        # are greater than the largest int\n",
    "        if two_sum > max_val:\n",
    "            # also, if it is larger than max_length\n",
    "            # update max_length\n",
    "            if max_length < two_sum:\n",
    "                max_length = two_sum + max_val\n",
    "                \n",
    "        # retry by dropping the largest int.\n",
    "        nums = nums[:-1]\n",
    "        print(\"current nums:\", nums)\n",
    "        print()\n",
    "        \n",
    "    return max_length"
   ]
  },
  {
   "cell_type": "code",
   "execution_count": 17,
   "metadata": {},
   "outputs": [
    {
     "name": "stdout",
     "output_type": "stream",
     "text": [
      "sorted result: [1, 2, 2]\n",
      "\n",
      "comparing 1 + 2 = 3 with 2\n",
      "current nums: [1, 2]\n",
      "\n"
     ]
    },
    {
     "data": {
      "text/plain": [
       "5"
      ]
     },
     "execution_count": 17,
     "metadata": {},
     "output_type": "execute_result"
    }
   ],
   "source": [
    "nums = [2,1,2]\n",
    "largestPerimeter(nums)"
   ]
  },
  {
   "cell_type": "code",
   "execution_count": 18,
   "metadata": {},
   "outputs": [
    {
     "name": "stdout",
     "output_type": "stream",
     "text": [
      "sorted result: [1, 1, 2, 10]\n",
      "\n",
      "comparing 1 + 2 = 3 with 10\n",
      "current nums: [1, 1, 2]\n",
      "\n",
      "comparing 1 + 1 = 2 with 2\n",
      "current nums: [1, 1]\n",
      "\n"
     ]
    },
    {
     "data": {
      "text/plain": [
       "0"
      ]
     },
     "execution_count": 18,
     "metadata": {},
     "output_type": "execute_result"
    }
   ],
   "source": [
    "nums = [1,2,1,10]\n",
    "largestPerimeter(nums)"
   ]
  },
  {
   "cell_type": "markdown",
   "metadata": {},
   "source": [
    "## Q13:LeetCode #27 Remove Element\n",
    "https://leetcode.com/problems/remove-element/\n",
    "\n",
    "Given an integer array `nums` and an integer `val`, remove all occurrences of `val` in nums in-place. The order of the elements may be changed. Then return the number of elements in `nums` which are not equal to `val`.\n",
    "\n",
    "Consider the number of elements in `nums` which are not equal to val be `k`, to get accepted, you need to do the following things:\n",
    "\n",
    "- Change the array nums such that the first `k` elements of `nums` contain the elements which are not equal to `val`. The remaining elements of `nums` are not important as well as the size of `nums`.\n",
    "\n",
    "- Return `k`."
   ]
  },
  {
   "cell_type": "code",
   "execution_count": 53,
   "metadata": {},
   "outputs": [],
   "source": [
    "def removeElement(nums, val):\n",
    "    appearance = 0\n",
    "    \n",
    "    for i in range(len(nums)):\n",
    "        if nums[i] == val:\n",
    "            appearance += 1\n",
    "            \n",
    "    for _ in range(appearance):\n",
    "        nums.remove(val)\n",
    "        nums.append(val)\n",
    "    print(nums)\n",
    "    \n",
    "    return len(nums) - appearance"
   ]
  },
  {
   "cell_type": "code",
   "execution_count": 54,
   "metadata": {},
   "outputs": [
    {
     "name": "stdout",
     "output_type": "stream",
     "text": [
      "[2, 2, 3, 3]\n"
     ]
    },
    {
     "data": {
      "text/plain": [
       "2"
      ]
     },
     "execution_count": 54,
     "metadata": {},
     "output_type": "execute_result"
    }
   ],
   "source": [
    "nums = [3,2,2,3]\n",
    "val = 3\n",
    "removeElement(nums, val)"
   ]
  },
  {
   "cell_type": "code",
   "execution_count": 55,
   "metadata": {},
   "outputs": [
    {
     "name": "stdout",
     "output_type": "stream",
     "text": [
      "[0, 1, 3, 0, 4, 2, 2, 2]\n"
     ]
    },
    {
     "data": {
      "text/plain": [
       "5"
      ]
     },
     "execution_count": 55,
     "metadata": {},
     "output_type": "execute_result"
    }
   ],
   "source": [
    "nums = [0,1,2,2,3,0,4,2]\n",
    "val = 2\n",
    "removeElement(nums, val)"
   ]
  },
  {
   "cell_type": "markdown",
   "metadata": {},
   "source": [
    "## Q14:LeetCode #860 Lemonade Change\n",
    "https://leetcode.com/problems/lemonade-change/\n",
    "\n",
    "At a lemonade stand, each lemonade costs `$5`. Customers are standing in a queue to buy from you and order one at a time (in the order specified by bills). Each customer will only buy one lemonade and pay with either a `$5`, `$10`, or `$20` bill. You must provide the correct change to each customer so that the net transaction is that the customer pays `$5`.\n",
    "\n",
    "Note that you do not have any change in hand at first.\n",
    "\n",
    "Given an integer array bills where `bills[i]` is the bill the ith customer pays, return `true` if you can provide every customer with the correct change, or `false` otherwise."
   ]
  },
  {
   "cell_type": "code",
   "execution_count": 56,
   "metadata": {},
   "outputs": [],
   "source": [
    "def lemonadeChange(bills):\n",
    "    # initialize number of \n",
    "    # 5 bills and 10 bills\n",
    "    count_5, count_10 = 0, 0\n",
    "    \n",
    "    for bill in bills:\n",
    "        # increment 5 bill\n",
    "        # if receives one\n",
    "        if bill == 5:\n",
    "            count_5 += 1\n",
    "            \n",
    "        # increment 10 bill\n",
    "        # if receives one\n",
    "        elif bill == 10:\n",
    "            count_10 += 1\n",
    "            # if I don't have 5 bill\n",
    "            # now, return False\n",
    "            if not count_5:\n",
    "                return False\n",
    "            # give 5 bill as a change\n",
    "            # and decrement 5 bill\n",
    "            count_5 -= 1\n",
    "            \n",
    "        # if I get a 20 bill\n",
    "        else:\n",
    "            # if I both have 5 & 10 bill\n",
    "            if count_5 and count_10:\n",
    "                # give each of them\n",
    "                count_10 -= 1\n",
    "                count_5 -= 1\n",
    "            # if I only have 5 bill\n",
    "            elif not count_10 and count_5 > 2:\n",
    "                # give 5 x 3 for change\n",
    "                count_5 -= 3\n",
    "            # neither do I have both of them\n",
    "            # return False\n",
    "            else:\n",
    "                return False\n",
    "    return True"
   ]
  },
  {
   "cell_type": "code",
   "execution_count": 57,
   "metadata": {},
   "outputs": [
    {
     "data": {
      "text/plain": [
       "True"
      ]
     },
     "execution_count": 57,
     "metadata": {},
     "output_type": "execute_result"
    }
   ],
   "source": [
    "bills = [5,5,5,10,20]\n",
    "lemonadeChange(bills)"
   ]
  },
  {
   "cell_type": "markdown",
   "metadata": {},
   "source": [
    "## Q15: LeetCode #860 Partitioning into Minimum Number Of Deci-Binary Numbers\n",
    "https://leetcode.com/problems/partitioning-into-minimum-number-of-deci-binary-numbers/description/\n",
    "\n",
    "A decimal number is called deci-binary if each of its digits is either `0` or `1` without any leading zeros. For example, `101` and `1100` are deci-binary, while `112` and `3001` are not.\n",
    "\n",
    "Given a string n that represents a positive decimal integer, return the minimum number of positive deci-binary numbers needed so that they sum up to `n`.\n",
    "\n",
    "- 32: 21 -> 10 -> 0\n",
    "- 30: 20 -> 10 -> 0\n",
    "- 82734: 71623 -> 60512 -> 50401 -> 40300 -> 30200 -> 20100 -> 10000 -> 0\n",
    "- 27346209830709182346: 11235108720608071235 -> 00124007610507060124 -> 00013006500406050013 -> 00002005400305040002 -> 00001004300204030001 -> 00000003200103020000 -> 00000002100002010000 -> 00000001000001000000 -> 00000000000000000000\n",
    "\n",
    "$\\therefore$ Return the biggest digit number"
   ]
  },
  {
   "cell_type": "code",
   "execution_count": 19,
   "metadata": {},
   "outputs": [],
   "source": [
    "def minPartitions(n):\n",
    "    return int(max([*str(n)]))"
   ]
  },
  {
   "cell_type": "code",
   "execution_count": 20,
   "metadata": {},
   "outputs": [
    {
     "data": {
      "text/plain": [
       "3"
      ]
     },
     "execution_count": 20,
     "metadata": {},
     "output_type": "execute_result"
    }
   ],
   "source": [
    "n = '32'\n",
    "minPartitions(n)"
   ]
  },
  {
   "cell_type": "code",
   "execution_count": 21,
   "metadata": {},
   "outputs": [
    {
     "data": {
      "text/plain": [
       "3"
      ]
     },
     "execution_count": 21,
     "metadata": {},
     "output_type": "execute_result"
    }
   ],
   "source": [
    "n = '30'\n",
    "minPartitions(n)"
   ]
  },
  {
   "cell_type": "code",
   "execution_count": 22,
   "metadata": {},
   "outputs": [
    {
     "data": {
      "text/plain": [
       "8"
      ]
     },
     "execution_count": 22,
     "metadata": {},
     "output_type": "execute_result"
    }
   ],
   "source": [
    "n = '82734'\n",
    "minPartitions(n)"
   ]
  },
  {
   "cell_type": "code",
   "execution_count": 6,
   "metadata": {},
   "outputs": [
    {
     "data": {
      "text/plain": [
       "9"
      ]
     },
     "execution_count": 6,
     "metadata": {},
     "output_type": "execute_result"
    }
   ],
   "source": [
    "n = '27346209830709182346'\n",
    "minPartitions(n)"
   ]
  },
  {
   "cell_type": "markdown",
   "metadata": {},
   "source": [
    "## Q16: LeetCode #2405 Optimal Partition of String\n",
    "https://leetcode.com/problems/optimal-partition-of-string/\n",
    "\n",
    "Given a string `s`, partition the string into one or more substrings such that the characters in each substring are unique. That is, no letter appears in a single substring more than once.\n",
    "\n",
    "Return the minimum number of substrings in such a partition.\n",
    "\n",
    "Note that each character should belong to exactly one substring in a partition."
   ]
  },
  {
   "cell_type": "code",
   "execution_count": 34,
   "metadata": {},
   "outputs": [],
   "source": [
    "def partitionString(s):\n",
    "    result = []\n",
    "    chunk = \"\"\n",
    "    for letter in s:\n",
    "        print()\n",
    "        print(\"current letter:\", letter)\n",
    "        if letter in chunk:\n",
    "            result.append(chunk)\n",
    "            print(\"Added result:\", result)\n",
    "            chunk = \"\"\n",
    "        chunk += letter\n",
    "        print(\"chunk:\", chunk)\n",
    "    result.append(chunk)\n",
    "    print()\n",
    "    print(\"final result:\", result)\n",
    "    return len(result)"
   ]
  },
  {
   "cell_type": "code",
   "execution_count": 35,
   "metadata": {},
   "outputs": [
    {
     "name": "stdout",
     "output_type": "stream",
     "text": [
      "\n",
      "current letter: a\n",
      "chunk: a\n",
      "\n",
      "current letter: b\n",
      "chunk: ab\n",
      "\n",
      "current letter: a\n",
      "Added result: ['ab']\n",
      "chunk: a\n",
      "\n",
      "current letter: c\n",
      "chunk: ac\n",
      "\n",
      "current letter: a\n",
      "Added result: ['ab', 'ac']\n",
      "chunk: a\n",
      "\n",
      "current letter: b\n",
      "chunk: ab\n",
      "\n",
      "current letter: a\n",
      "Added result: ['ab', 'ac', 'ab']\n",
      "chunk: a\n",
      "\n",
      "final result: ['ab', 'ac', 'ab', 'a']\n"
     ]
    },
    {
     "data": {
      "text/plain": [
       "4"
      ]
     },
     "execution_count": 35,
     "metadata": {},
     "output_type": "execute_result"
    }
   ],
   "source": [
    "s = \"abacaba\"\n",
    "# (\"a\",\"ba\",\"cab\",\"a\") OR (\"ab\",\"a\",\"ca\",\"ba\")\n",
    "partitionString(s)"
   ]
  },
  {
   "cell_type": "code",
   "execution_count": 36,
   "metadata": {},
   "outputs": [
    {
     "name": "stdout",
     "output_type": "stream",
     "text": [
      "\n",
      "current letter: s\n",
      "chunk: s\n",
      "\n",
      "current letter: s\n",
      "Added result: ['s']\n",
      "chunk: s\n",
      "\n",
      "current letter: s\n",
      "Added result: ['s', 's']\n",
      "chunk: s\n",
      "\n",
      "current letter: s\n",
      "Added result: ['s', 's', 's']\n",
      "chunk: s\n",
      "\n",
      "current letter: s\n",
      "Added result: ['s', 's', 's', 's']\n",
      "chunk: s\n",
      "\n",
      "current letter: s\n",
      "Added result: ['s', 's', 's', 's', 's']\n",
      "chunk: s\n",
      "\n",
      "final result: ['s', 's', 's', 's', 's', 's']\n"
     ]
    },
    {
     "data": {
      "text/plain": [
       "6"
      ]
     },
     "execution_count": 36,
     "metadata": {},
     "output_type": "execute_result"
    }
   ],
   "source": [
    "s = \"ssssss\"\n",
    "# (\"s\",\"s\",\"s\",\"s\",\"s\",\"s\")\n",
    "partitionString(s)"
   ]
  },
  {
   "cell_type": "markdown",
   "metadata": {},
   "source": [
    "## Q17: Fixed Sized Sliding Windows\n",
    "https://www.youtube.com/watch?v=GcW4mgmgSbw\n",
    "\n",
    "### Given an array and find the sum of all subarrays of length k.\n",
    "\n",
    "$\\therefore$ O(n * k)"
   ]
  },
  {
   "cell_type": "code",
   "execution_count": 2,
   "metadata": {},
   "outputs": [
    {
     "data": {
      "text/plain": [
       "[6, 9, 12, 15]"
      ]
     },
     "execution_count": 2,
     "metadata": {},
     "output_type": "execute_result"
    }
   ],
   "source": [
    "def bad_example(array, k):\n",
    "    result = []\n",
    "    for i in range(len(array) - k + 1):\n",
    "        sums = sum(array[i:i+k])\n",
    "        result.append(sums)\n",
    "    return result\n",
    "bad_example([1,2,3,4,5,6], 3)"
   ]
  },
  {
   "cell_type": "code",
   "execution_count": 3,
   "metadata": {},
   "outputs": [
    {
     "data": {
      "text/plain": [
       "[15, 20]"
      ]
     },
     "execution_count": 3,
     "metadata": {},
     "output_type": "execute_result"
    }
   ],
   "source": [
    "bad_example([1,2,3,4,5,6], 5)"
   ]
  },
  {
   "cell_type": "markdown",
   "metadata": {},
   "source": [
    "Every time we compute the sum of a subarary, we compute the sum of first $k$ values, then we compute the sum of the next $k$ values. This means we are actually computing the sum of overlapping $k-1$ values twice. We do not need to recompute everything. All we need to do is look at the difference between the two subarrays: $9 = 6 - 1 + 4$. When $k = 5$, $20 = 15 - (1 - 6)$.\n",
    "\n",
    "$\\therefore$ O(n)"
   ]
  },
  {
   "cell_type": "code",
   "execution_count": 4,
   "metadata": {},
   "outputs": [],
   "source": [
    "def good_example(array, k):\n",
    "    curr_subarray = sum(array[:k])\n",
    "    result = [curr_subarray]\n",
    "    \n",
    "    for i in range(1, len(array) - k + 1):\n",
    "        curr_subarray = curr_subarray - array[i-1] + array[i+k-1]\n",
    "        result.append(curr_subarray)\n",
    "        \n",
    "    return result"
   ]
  },
  {
   "cell_type": "code",
   "execution_count": 5,
   "metadata": {},
   "outputs": [
    {
     "data": {
      "text/plain": [
       "[6, 9, 12, 15]"
      ]
     },
     "execution_count": 5,
     "metadata": {},
     "output_type": "execute_result"
    }
   ],
   "source": [
    "good_example([1,2,3,4,5,6], 3)"
   ]
  },
  {
   "cell_type": "code",
   "execution_count": 6,
   "metadata": {},
   "outputs": [
    {
     "data": {
      "text/plain": [
       "[15, 20]"
      ]
     },
     "execution_count": 6,
     "metadata": {},
     "output_type": "execute_result"
    }
   ],
   "source": [
    "good_example([1,2,3,4,5,6], 5)"
   ]
  },
  {
   "cell_type": "markdown",
   "metadata": {},
   "source": [
    "## Q18: Dynamically Sized Sliding Windows\n",
    "\n",
    "### Find the shortest subarray with the sum that is greater than or equal to x.\n",
    "\n",
    "In this case, we do not know what size the subarray needs to be. So, our dynamic sliding window allows us to start with small and expand until we match the condition that we need. Once we find the subarray that matches our sum, then we try to contract again from the other side to get what is minimally sized subarray that has a sum that is greater than or equal to x."
   ]
  },
  {
   "cell_type": "code",
   "execution_count": 11,
   "metadata": {},
   "outputs": [
    {
     "name": "stdout",
     "output_type": "stream",
     "text": [
      "Current array: [1]\n",
      "Current Sum: 1\n",
      "\n",
      "Current array: [1, 2]\n",
      "Current Sum: 3\n",
      "\n",
      "Current array: [1, 2, 3]\n",
      "Current Sum: 6\n",
      "\n",
      "Current array: [1, 2, 3, 4]\n",
      "Current Sum: 10\n",
      "\n",
      "10 is greater than or equal to 7\n",
      "Current array: [1, 2, 3, 4]\n",
      "Current Sum: 10\n",
      "min length: 4\n",
      "\n",
      "9 is greater than or equal to 7\n",
      "Current array: [2, 3, 4]\n",
      "Current Sum: 9\n",
      "min length: 3\n",
      "\n",
      "7 is greater than or equal to 7\n",
      "Current array: [3, 4]\n",
      "Current Sum: 7\n",
      "min length: 2\n",
      "\n",
      "Current array: [4, 5]\n",
      "Current Sum: 9\n",
      "\n",
      "9 is greater than or equal to 7\n",
      "Current array: [4, 5]\n",
      "Current Sum: 9\n",
      "min length: 2\n",
      "\n",
      "Current array: [5, 6]\n",
      "Current Sum: 11\n",
      "\n",
      "11 is greater than or equal to 7\n",
      "Current array: [5, 6]\n",
      "Current Sum: 11\n",
      "min length: 2\n",
      "\n"
     ]
    },
    {
     "data": {
      "text/plain": [
       "2"
      ]
     },
     "execution_count": 11,
     "metadata": {},
     "output_type": "execute_result"
    }
   ],
   "source": [
    "def dynamic_sliding_window(arr, x):\n",
    "    min_length = float('inf')\n",
    "    \n",
    "    # the current range and sum of our sliding window\n",
    "    start, end, curr_sum = 0, 0, 0\n",
    "    \n",
    "    # extend the sliding window until our criteria is met\n",
    "    while end < len(arr):\n",
    "        curr_sum = curr_sum + arr[end]\n",
    "        end += 1\n",
    "        print(\"Current array:\", arr[start:end])\n",
    "        print(\"Current Sum:\", curr_sum)\n",
    "        print()\n",
    "        \n",
    "        # then contract the sliding window until\n",
    "        # it no longer meets our condition\n",
    "        while start < end and curr_sum >= x:\n",
    "            print(f\"{curr_sum} is greater than or equal to {x}\")\n",
    "            print(\"Current array:\", arr[start:end])\n",
    "            print(\"Current Sum:\", curr_sum)\n",
    "            curr_sum -= arr[start]\n",
    "            start += 1\n",
    "            \n",
    "            # update the min_length if it's shorter\n",
    "            # than the curr_min\n",
    "            min_length = min(min_length, end - start + 1)\n",
    "            print(\"min length:\", min_length)\n",
    "            print()\n",
    "    return min_length\n",
    "\n",
    "dynamic_sliding_window([1,2,3,4,5,6], 7)"
   ]
  },
  {
   "cell_type": "markdown",
   "metadata": {},
   "source": [
    "- Naive appraoch to calculate the sum of every single subarry which one is the shortest: $N^2$ subarrays x sum of each array $\\therefore O(n^3)$ \n",
    "\n",
    "- Dynamic Approach: On each turn, we're either moving the start pointer or moving the end pointer and each is moving in one direction. And each is moving at least one step per turn. In total, both of those pointers move from the beginning of an array to the end of an array $\\therefore O(n)$"
   ]
  },
  {
   "cell_type": "markdown",
   "metadata": {},
   "source": [
    "## Q19: LeetCode #561 Array Partition\n",
    "https://leetcode.com/problems/array-partition/\n",
    "\n",
    "Given an integer array nums of `2n` integers, group these integers into n pairs `(a1, b1), (a2, b2), ..., (an, bn)` such that the sum of `min(ai, bi)` for all `i` is maximized. Return the maximized sum."
   ]
  },
  {
   "cell_type": "code",
   "execution_count": 44,
   "metadata": {},
   "outputs": [],
   "source": [
    "def arrayPairSum(nums):\n",
    "    nums = sorted(nums)\n",
    "    print(\"sorted:\", nums)\n",
    "    print()\n",
    "    result = 0\n",
    "    \n",
    "    # increment by two indices\n",
    "    # cause the smaller integer within a group\n",
    "    # is of our interest.\n",
    "    for i in range(0, len(nums), 2):\n",
    "        print(\"current int:\", nums[i])\n",
    "        result += nums[i]\n",
    "        \n",
    "    return result"
   ]
  },
  {
   "cell_type": "code",
   "execution_count": 45,
   "metadata": {},
   "outputs": [
    {
     "name": "stdout",
     "output_type": "stream",
     "text": [
      "sorted: [1, 2, 3, 4]\n",
      "\n",
      "current int: 1\n",
      "current int: 3\n"
     ]
    },
    {
     "data": {
      "text/plain": [
       "4"
      ]
     },
     "execution_count": 45,
     "metadata": {},
     "output_type": "execute_result"
    }
   ],
   "source": [
    "nums = [1,4,3,2]\n",
    "arrayPairSum(nums)"
   ]
  },
  {
   "cell_type": "code",
   "execution_count": 46,
   "metadata": {},
   "outputs": [
    {
     "name": "stdout",
     "output_type": "stream",
     "text": [
      "sorted: [1, 2, 2, 5, 6, 6]\n",
      "\n",
      "current int: 1\n",
      "current int: 2\n",
      "current int: 6\n"
     ]
    },
    {
     "data": {
      "text/plain": [
       "9"
      ]
     },
     "execution_count": 46,
     "metadata": {},
     "output_type": "execute_result"
    }
   ],
   "source": [
    "nums = [6,2,6,5,1,2]\n",
    "arrayPairSum(nums)"
   ]
  },
  {
   "cell_type": "markdown",
   "metadata": {},
   "source": [
    "## Q20: LeetCode #2578 Split with Minimum Sum\n",
    "https://leetcode.com/problems/split-with-minimum-sum/\n",
    "\n",
    "Given a positive integer `num`, split it into two non-negative integers `num1` and `num2` such that:\n",
    "\n",
    "- The concatenation of `num1` and `num2` is a permutation of `num`.\n",
    "\n",
    "    - In other words, the sum of the number of occurrences of each digit in `num1` and `num2` is equal to the number of occurrences of that digit in `num`.\n",
    "\n",
    "- `num1` and `num2` can contain leading zeros.\n",
    "\n",
    "Return the minimum possible sum of `num1` and `num2`."
   ]
  },
  {
   "cell_type": "code",
   "execution_count": 59,
   "metadata": {},
   "outputs": [],
   "source": [
    "from collections import deque\n",
    "\n",
    "def splitNum(num):\n",
    "    queue = deque(sorted(str(num)))\n",
    "    print(\"queue:\", queue)\n",
    "    print()\n",
    "    num1, num2 = '', ''\n",
    "    count = 0\n",
    "    \n",
    "    while queue:\n",
    "        if count % 2 == 0:\n",
    "            num1 += queue.popleft()\n",
    "            print(\"num1:\", num1)\n",
    "        else:\n",
    "            num2 += queue.popleft()\n",
    "            print(\"num2:\", num2)\n",
    "            print()\n",
    "        count += 1\n",
    "    \n",
    "    return int(num1) + int(num2)"
   ]
  },
  {
   "cell_type": "code",
   "execution_count": 60,
   "metadata": {},
   "outputs": [
    {
     "name": "stdout",
     "output_type": "stream",
     "text": [
      "queue: deque(['2', '3', '4', '5'])\n",
      "\n",
      "num1: 2\n",
      "num2: 3\n",
      "\n",
      "num1: 24\n",
      "num2: 35\n",
      "\n"
     ]
    },
    {
     "data": {
      "text/plain": [
       "59"
      ]
     },
     "execution_count": 60,
     "metadata": {},
     "output_type": "execute_result"
    }
   ],
   "source": [
    "num = 4325\n",
    "splitNum(num)"
   ]
  },
  {
   "cell_type": "code",
   "execution_count": 61,
   "metadata": {},
   "outputs": [
    {
     "name": "stdout",
     "output_type": "stream",
     "text": [
      "queue: deque(['6', '7', '8'])\n",
      "\n",
      "num1: 6\n",
      "num2: 7\n",
      "\n",
      "num1: 68\n"
     ]
    },
    {
     "data": {
      "text/plain": [
       "75"
      ]
     },
     "execution_count": 61,
     "metadata": {},
     "output_type": "execute_result"
    }
   ],
   "source": [
    "num = 687\n",
    "splitNum(num)"
   ]
  },
  {
   "cell_type": "markdown",
   "metadata": {},
   "source": [
    "## Q21: LeetCode #942 DI String Match\n",
    "https://leetcode.com/problems/di-string-match/\n",
    "\n",
    "A permutation `perm` of `n + 1` integers of all the integers in the range `[0, n]` can be represented as a string `s` of length `n` where:\n",
    "\n",
    "- `s[i] == 'I'` if `perm[i] < perm[i + 1]`, and\n",
    "- `s[i] == 'D'` if `perm[i] > perm[i + 1]`.\n",
    "Given a string `s`, reconstruct the permutation `perm` and return it. If there are multiple valid permutations `perm`, return any of them."
   ]
  },
  {
   "cell_type": "code",
   "execution_count": 64,
   "metadata": {},
   "outputs": [],
   "source": [
    "from collections import deque\n",
    "\n",
    "def diStringMatch(s):\n",
    "    chars = [*s]\n",
    "    print(\"chars:\", chars)\n",
    "    queue = deque([i for i in range(len(chars) + 1)])\n",
    "    print(\"queue:\", queue)\n",
    "    print()\n",
    "    result = []\n",
    "    \n",
    "    for i in range(len(chars)):\n",
    "        print(\"current char:\", chars[i])\n",
    "        if chars[i] == \"I\":\n",
    "            result.append(queue.popleft())\n",
    "        else:\n",
    "            result.append(queue.pop())\n",
    "        print(\"result:\", result)\n",
    "        print(\"queue:\", queue)\n",
    "        print()\n",
    "            \n",
    "    result.append(queue.popleft())\n",
    "    print(\"result:\", result)\n",
    "    return result"
   ]
  },
  {
   "cell_type": "code",
   "execution_count": 65,
   "metadata": {},
   "outputs": [
    {
     "name": "stdout",
     "output_type": "stream",
     "text": [
      "chars: ['I', 'D', 'I', 'D']\n",
      "queue: deque([0, 1, 2, 3, 4])\n",
      "\n",
      "current char: I\n",
      "result: [0]\n",
      "queue: deque([1, 2, 3, 4])\n",
      "\n",
      "current char: D\n",
      "result: [0, 4]\n",
      "queue: deque([1, 2, 3])\n",
      "\n",
      "current char: I\n",
      "result: [0, 4, 1]\n",
      "queue: deque([2, 3])\n",
      "\n",
      "current char: D\n",
      "result: [0, 4, 1, 3]\n",
      "queue: deque([2])\n",
      "\n",
      "result: [0, 4, 1, 3, 2]\n"
     ]
    },
    {
     "data": {
      "text/plain": [
       "[0, 4, 1, 3, 2]"
      ]
     },
     "execution_count": 65,
     "metadata": {},
     "output_type": "execute_result"
    }
   ],
   "source": [
    "s = \"IDID\"\n",
    "diStringMatch(s)"
   ]
  },
  {
   "cell_type": "code",
   "execution_count": 66,
   "metadata": {},
   "outputs": [
    {
     "name": "stdout",
     "output_type": "stream",
     "text": [
      "chars: ['I', 'I', 'I']\n",
      "queue: deque([0, 1, 2, 3])\n",
      "\n",
      "current char: I\n",
      "result: [0]\n",
      "queue: deque([1, 2, 3])\n",
      "\n",
      "current char: I\n",
      "result: [0, 1]\n",
      "queue: deque([2, 3])\n",
      "\n",
      "current char: I\n",
      "result: [0, 1, 2]\n",
      "queue: deque([3])\n",
      "\n",
      "result: [0, 1, 2, 3]\n"
     ]
    },
    {
     "data": {
      "text/plain": [
       "[0, 1, 2, 3]"
      ]
     },
     "execution_count": 66,
     "metadata": {},
     "output_type": "execute_result"
    }
   ],
   "source": [
    "s = \"III\"\n",
    "diStringMatch(s)"
   ]
  },
  {
   "cell_type": "code",
   "execution_count": 67,
   "metadata": {},
   "outputs": [
    {
     "name": "stdout",
     "output_type": "stream",
     "text": [
      "chars: ['D', 'D', 'I']\n",
      "queue: deque([0, 1, 2, 3])\n",
      "\n",
      "current char: D\n",
      "result: [3]\n",
      "queue: deque([0, 1, 2])\n",
      "\n",
      "current char: D\n",
      "result: [3, 2]\n",
      "queue: deque([0, 1])\n",
      "\n",
      "current char: I\n",
      "result: [3, 2, 0]\n",
      "queue: deque([1])\n",
      "\n",
      "result: [3, 2, 0, 1]\n"
     ]
    },
    {
     "data": {
      "text/plain": [
       "[3, 2, 0, 1]"
      ]
     },
     "execution_count": 67,
     "metadata": {},
     "output_type": "execute_result"
    }
   ],
   "source": [
    "s = \"DDI\"\n",
    "diStringMatch(s)"
   ]
  },
  {
   "cell_type": "markdown",
   "metadata": {},
   "source": [
    "## Q22: LeetCode #2655 Maximum Sum with Exactly K elements\n",
    "https://leetcode.com/problems/maximum-sum-with-exactly-k-elements/\n",
    "\n",
    "You are given a 0-indexed integer array `nums` and an integer `k`. Your task is to perform the following operation exactly `k` times in order to maximize your score:\n",
    "\n",
    "Select an element `m` from `nums`.\n",
    "\n",
    "Remove the selected element `m` from the array.\n",
    "\n",
    "Add a new element with a value of `m + 1` to the array.\n",
    "\n",
    "Increase your score by `m`.\n",
    "\n",
    "Return the maximum score you can achieve after performing the operation exactly `k` times."
   ]
  },
  {
   "cell_type": "code",
   "execution_count": 17,
   "metadata": {},
   "outputs": [],
   "source": [
    "def maximizeSum(nums, k):\n",
    "    num = sorted(nums)[-1]\n",
    "    result = 0\n",
    "    for i in range(k):\n",
    "        result += num\n",
    "        num += 1\n",
    "    return result"
   ]
  },
  {
   "cell_type": "code",
   "execution_count": 18,
   "metadata": {},
   "outputs": [
    {
     "data": {
      "text/plain": [
       "18"
      ]
     },
     "execution_count": 18,
     "metadata": {},
     "output_type": "execute_result"
    }
   ],
   "source": [
    "nums = [1,2,3,4,5]\n",
    "k = 3\n",
    "maximizeSum(nums, k)"
   ]
  },
  {
   "cell_type": "code",
   "execution_count": 19,
   "metadata": {},
   "outputs": [
    {
     "data": {
      "text/plain": [
       "11"
      ]
     },
     "execution_count": 19,
     "metadata": {},
     "output_type": "execute_result"
    }
   ],
   "source": [
    "nums = [5,5,5]\n",
    "k = 2\n",
    "maximizeSum(nums, k)"
   ]
  },
  {
   "cell_type": "markdown",
   "metadata": {},
   "source": [
    "## Q23: LeetCode #1710 Maximum Units on a Truck\n",
    "https://leetcode.com/problems/maximum-units-on-a-truck/description/\n",
    "\n",
    "You are assigned to put some amount of boxes onto one truck. You are given a 2D array boxTypes, where `boxTypes[i] = [numberOfBoxes_i, numberOfUnitsPerBox_i]`:\n",
    "\n",
    "`numberOfBoxes_i` is the number of boxes of type `i`.\n",
    "\n",
    "`numberOfUnitsPerBox_i` is the number of units in each box of the type `i`.\n",
    "\n",
    "You are also given an integer `truckSize`, which is the maximum number of boxes that can be put on the truck. You can choose any boxes to put on the truck as long as the number of boxes does not exceed `truckSize`.\n",
    "\n",
    "Return the maximum total number of units that can be put on the truck."
   ]
  },
  {
   "cell_type": "code",
   "execution_count": 71,
   "metadata": {},
   "outputs": [],
   "source": [
    "def maximumUnits(boxTypes, truckSize):\n",
    "    result = 0\n",
    "    sorted_boxes = sorted(boxTypes, key = lambda x: x[1], reverse = True)\n",
    "    print(\"sorted boxes:\", sorted_boxes)\n",
    "    print()\n",
    "    \n",
    "    for boxes in sorted_boxes:\n",
    "        num_box, curr_unit = boxes[0], boxes[1]\n",
    "        \n",
    "        # compare: (# of current box to be loaded) vs (# of boxes can be loaded on truck)\n",
    "        print(f\"current boxes: {num_box} vs room in a truck: {truckSize}\")\n",
    "        curr_box = min(num_box, truckSize)\n",
    "        print(f\"final number of boxes to be loaded: {curr_box}\")\n",
    "        \n",
    "        # add # of box x current unit of boxes\n",
    "        result += curr_box * curr_unit\n",
    "        print(\"result:\", result)\n",
    "        \n",
    "        # subtract truck vacancy by current # of boxes\n",
    "        truckSize -= curr_box\n",
    "        print(\"current truckSize:\", truckSize)\n",
    "        print()\n",
    "        \n",
    "        # breaks the loop when there is no more vacancy in a truck.\n",
    "        if truckSize == 0:\n",
    "            break\n",
    "            \n",
    "    return result"
   ]
  },
  {
   "cell_type": "code",
   "execution_count": 72,
   "metadata": {},
   "outputs": [
    {
     "name": "stdout",
     "output_type": "stream",
     "text": [
      "sorted boxes: [[1, 3], [2, 2], [3, 1]]\n",
      "\n",
      "current boxes: 1 vs room in a truck: 4\n",
      "final number of boxes to be loaded: 1\n",
      "result: 3\n",
      "current truckSize: 3\n",
      "\n",
      "current boxes: 2 vs room in a truck: 3\n",
      "final number of boxes to be loaded: 2\n",
      "result: 7\n",
      "current truckSize: 1\n",
      "\n",
      "current boxes: 3 vs room in a truck: 1\n",
      "final number of boxes to be loaded: 1\n",
      "result: 8\n",
      "current truckSize: 0\n",
      "\n"
     ]
    },
    {
     "data": {
      "text/plain": [
       "8"
      ]
     },
     "execution_count": 72,
     "metadata": {},
     "output_type": "execute_result"
    }
   ],
   "source": [
    "boxTypes = [[1,3],[2,2],[3,1]]\n",
    "truckSize = 4\n",
    "maximumUnits(boxTypes, truckSize)"
   ]
  },
  {
   "cell_type": "code",
   "execution_count": 73,
   "metadata": {},
   "outputs": [
    {
     "name": "stdout",
     "output_type": "stream",
     "text": [
      "sorted boxes: [[5, 10], [3, 9], [4, 7], [2, 5]]\n",
      "\n",
      "current boxes: 5 vs room in a truck: 10\n",
      "final number of boxes to be loaded: 5\n",
      "result: 50\n",
      "current truckSize: 5\n",
      "\n",
      "current boxes: 3 vs room in a truck: 5\n",
      "final number of boxes to be loaded: 3\n",
      "result: 77\n",
      "current truckSize: 2\n",
      "\n",
      "current boxes: 4 vs room in a truck: 2\n",
      "final number of boxes to be loaded: 2\n",
      "result: 91\n",
      "current truckSize: 0\n",
      "\n"
     ]
    },
    {
     "data": {
      "text/plain": [
       "91"
      ]
     },
     "execution_count": 73,
     "metadata": {},
     "output_type": "execute_result"
    }
   ],
   "source": [
    "boxTypes = [[5,10],[2,5],[4,7],[3,9]]\n",
    "truckSize = 10\n",
    "maximumUnits(boxTypes, truckSize)"
   ]
  },
  {
   "cell_type": "code",
   "execution_count": null,
   "metadata": {},
   "outputs": [],
   "source": []
  }
 ],
 "metadata": {
  "kernelspec": {
   "display_name": "Python 3",
   "language": "python",
   "name": "python3"
  },
  "language_info": {
   "codemirror_mode": {
    "name": "ipython",
    "version": 3
   },
   "file_extension": ".py",
   "mimetype": "text/x-python",
   "name": "python",
   "nbconvert_exporter": "python",
   "pygments_lexer": "ipython3",
   "version": "3.8.8"
  }
 },
 "nbformat": 4,
 "nbformat_minor": 4
}
