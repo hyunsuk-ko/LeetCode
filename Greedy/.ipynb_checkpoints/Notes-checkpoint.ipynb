{
 "cells": [
  {
   "cell_type": "markdown",
   "metadata": {},
   "source": [
    "## Q1: LeetCode #1 Two Sum\n",
    "https://leetcode.com/problems/two-sum/\n",
    "\n",
    "https://www.youtube.com/watch?v=KLlXCFG5TnA"
   ]
  },
  {
   "cell_type": "code",
   "execution_count": 1,
   "metadata": {},
   "outputs": [],
   "source": [
    "# O(n) time complexity using HashMap\n",
    "def twoSum(nums, target):\n",
    "    prevMap = dict()\n",
    "    \n",
    "    for i, n in enumerate(nums):\n",
    "        diff = target - n\n",
    "        if diff in prevMap:\n",
    "            return [prevMap[diff], i]\n",
    "        prevMap[n] = i"
   ]
  },
  {
   "cell_type": "code",
   "execution_count": 2,
   "metadata": {},
   "outputs": [
    {
     "data": {
      "text/plain": [
       "[0, 1]"
      ]
     },
     "execution_count": 2,
     "metadata": {},
     "output_type": "execute_result"
    }
   ],
   "source": [
    "nums = [2,7,11,15]\n",
    "target = 9\n",
    "twoSum(nums, target)"
   ]
  },
  {
   "cell_type": "code",
   "execution_count": 3,
   "metadata": {},
   "outputs": [
    {
     "data": {
      "text/plain": [
       "[1, 2]"
      ]
     },
     "execution_count": 3,
     "metadata": {},
     "output_type": "execute_result"
    }
   ],
   "source": [
    "nums = [3,2,4]\n",
    "target = 6\n",
    "twoSum(nums, target)"
   ]
  },
  {
   "cell_type": "markdown",
   "metadata": {},
   "source": [
    "## Q2: LeetCode #125 Maximum 69 Number\n",
    "https://leetcode.com/problems/maximum-69-number/"
   ]
  },
  {
   "cell_type": "code",
   "execution_count": 4,
   "metadata": {},
   "outputs": [],
   "source": [
    "def maximum69Number(num):\n",
    "    nums = [letter for letter in str(num)]\n",
    "    if '6' not in nums:\n",
    "        return num\n",
    "    idx = nums.index('6')\n",
    "    nums[idx] = '9'\n",
    "    return int(''.join(nums))"
   ]
  },
  {
   "cell_type": "code",
   "execution_count": 5,
   "metadata": {},
   "outputs": [
    {
     "data": {
      "text/plain": [
       "9969"
      ]
     },
     "execution_count": 5,
     "metadata": {},
     "output_type": "execute_result"
    }
   ],
   "source": [
    "num = 9669\n",
    "maximum69Number(num)"
   ]
  },
  {
   "cell_type": "code",
   "execution_count": 6,
   "metadata": {},
   "outputs": [
    {
     "data": {
      "text/plain": [
       "9999"
      ]
     },
     "execution_count": 6,
     "metadata": {},
     "output_type": "execute_result"
    }
   ],
   "source": [
    "num = 9996\n",
    "maximum69Number(num)"
   ]
  },
  {
   "cell_type": "code",
   "execution_count": 7,
   "metadata": {},
   "outputs": [
    {
     "data": {
      "text/plain": [
       "9999"
      ]
     },
     "execution_count": 7,
     "metadata": {},
     "output_type": "execute_result"
    }
   ],
   "source": [
    "num = 9999\n",
    "maximum69Number(num)"
   ]
  },
  {
   "cell_type": "markdown",
   "metadata": {},
   "source": [
    "## Q3: LeetCode #2160 Minimum Sum of four Digit Numbers After Splitting Digits\n",
    "https://leetcode.com/problems/minimum-sum-of-four-digit-number-after-splitting-digits/"
   ]
  },
  {
   "cell_type": "code",
   "execution_count": 8,
   "metadata": {},
   "outputs": [],
   "source": [
    "def minimumSum(num):\n",
    "    num1, num2 = \"\", \"\"\n",
    "    count = 0\n",
    "    \n",
    "    for letter in sorted([*str(num)]):\n",
    "        if count % 2 == 0:\n",
    "            num1 += letter\n",
    "        else:\n",
    "            num2 += letter\n",
    "        count += 1\n",
    "    return int(num1) + int(num2)"
   ]
  },
  {
   "cell_type": "code",
   "execution_count": 9,
   "metadata": {},
   "outputs": [
    {
     "data": {
      "text/plain": [
       "52"
      ]
     },
     "execution_count": 9,
     "metadata": {},
     "output_type": "execute_result"
    }
   ],
   "source": [
    "num = 2932\n",
    "minimumSum(num)"
   ]
  },
  {
   "cell_type": "code",
   "execution_count": 10,
   "metadata": {},
   "outputs": [
    {
     "data": {
      "text/plain": [
       "13"
      ]
     },
     "execution_count": 10,
     "metadata": {},
     "output_type": "execute_result"
    }
   ],
   "source": [
    "num = 4009\n",
    "minimumSum(num)"
   ]
  },
  {
   "cell_type": "markdown",
   "metadata": {},
   "source": [
    "## Q4: LeetCode #121 Best Time to Buy and Sell Stock\n",
    "https://leetcode.com/problems/best-time-to-buy-and-sell-stock/"
   ]
  },
  {
   "cell_type": "code",
   "execution_count": 13,
   "metadata": {},
   "outputs": [],
   "source": [
    "import math\n",
    "\n",
    "def maxProfit(prices):\n",
    "    '''\n",
    "    The points of interest are the peaks and valleys in the given graph. \n",
    "    For every element, we are calculating the difference between that element and \n",
    "    the minimum of all the values before that element and we are updating \n",
    "    the maximum profit if the difference thus found is greater than the current maximum profit.\n",
    "    '''\n",
    "        \n",
    "    min_price = math.inf\n",
    "    max_profit = 0\n",
    "    \n",
    "    for i in range(len(prices)):\n",
    "        if prices[i] < min_price:\n",
    "            min_price = prices[i]\n",
    "        elif max_profit < prices[i] - min_price:\n",
    "            max_profit = prices[i] - min_price\n",
    "    return max_profit"
   ]
  },
  {
   "cell_type": "code",
   "execution_count": 14,
   "metadata": {},
   "outputs": [
    {
     "data": {
      "text/plain": [
       "5"
      ]
     },
     "execution_count": 14,
     "metadata": {},
     "output_type": "execute_result"
    }
   ],
   "source": [
    "prices = [7,1,5,3,6,4]\n",
    "maxProfit(prices)"
   ]
  },
  {
   "cell_type": "code",
   "execution_count": 15,
   "metadata": {},
   "outputs": [
    {
     "data": {
      "text/plain": [
       "0"
      ]
     },
     "execution_count": 15,
     "metadata": {},
     "output_type": "execute_result"
    }
   ],
   "source": [
    "prices = [7,6,4,3,1]\n",
    "maxProfit(prices)"
   ]
  },
  {
   "cell_type": "markdown",
   "metadata": {},
   "source": [
    "## Q5: LeetCode #125 Valid Palindrome\n",
    "https://leetcode.com/problems/valid-palindrome/"
   ]
  },
  {
   "cell_type": "code",
   "execution_count": 16,
   "metadata": {},
   "outputs": [],
   "source": [
    "def isPalindrome(s):\n",
    "    concat_str = \"\"\n",
    "    for letter in [*s]:\n",
    "        if letter.isalpha():\n",
    "            concat_str += letter.lower()\n",
    "        elif letter.isnumeric():\n",
    "            concat_str += letter\n",
    "    return concat_str == concat_str[::-1]"
   ]
  },
  {
   "cell_type": "code",
   "execution_count": 17,
   "metadata": {},
   "outputs": [
    {
     "data": {
      "text/plain": [
       "True"
      ]
     },
     "execution_count": 17,
     "metadata": {},
     "output_type": "execute_result"
    }
   ],
   "source": [
    "s = \"A man, a plan, a canal: Panama\"\n",
    "isPalindrome(s)"
   ]
  },
  {
   "cell_type": "code",
   "execution_count": 18,
   "metadata": {},
   "outputs": [
    {
     "data": {
      "text/plain": [
       "False"
      ]
     },
     "execution_count": 18,
     "metadata": {},
     "output_type": "execute_result"
    }
   ],
   "source": [
    "s = \"race a car\"\n",
    "isPalindrome(s)"
   ]
  },
  {
   "cell_type": "markdown",
   "metadata": {},
   "source": [
    "## Q6: LeetCode #409 Longest Palindrome\n",
    "https://leetcode.com/problems/longest-palindrome/"
   ]
  },
  {
   "cell_type": "code",
   "execution_count": 19,
   "metadata": {},
   "outputs": [],
   "source": [
    "from collections import Counter\n",
    "\n",
    "def longestPalindrome(s):\n",
    "    count_dict = Counter(s)\n",
    "    length = 0\n",
    "    hasOdd = False\n",
    "    \n",
    "    for num in sorted(count_dict.values(), reverse = True):\n",
    "        if num % 2 == 0:\n",
    "            length += num\n",
    "        else:\n",
    "            if hasOdd == False:\n",
    "                length += num\n",
    "                hasOdd = True\n",
    "            else:\n",
    "                # if odd length letter has already been added,\n",
    "                # the rest of the odd length letter should be added \n",
    "                # maximum number of times, thus (num - 1)\n",
    "                length += (num - 1)\n",
    "    return length"
   ]
  },
  {
   "cell_type": "code",
   "execution_count": 20,
   "metadata": {},
   "outputs": [
    {
     "data": {
      "text/plain": [
       "7"
      ]
     },
     "execution_count": 20,
     "metadata": {},
     "output_type": "execute_result"
    }
   ],
   "source": [
    "s = \"abccccdd\"\n",
    "longestPalindrome(s)"
   ]
  },
  {
   "cell_type": "markdown",
   "metadata": {},
   "source": [
    "## Q7: LeetCode #409 Make Array Zero by Subtacting Equal Amounts\n",
    "https://leetcode.com/problems/make-array-zero-by-subtracting-equal-amounts/"
   ]
  },
  {
   "cell_type": "code",
   "execution_count": 23,
   "metadata": {},
   "outputs": [],
   "source": [
    "import math\n",
    "\n",
    "# BRUTE FORCE APPROACH: O(n^2)\n",
    "\n",
    "def minimumOperations(nums):\n",
    "    if set(nums) == {0}:\n",
    "        return 0\n",
    "    \n",
    "    result = 0\n",
    "    min_num = math.inf\n",
    "    \n",
    "    while set(nums) != {0}:\n",
    "        for num in sorted(nums):\n",
    "            if num > 0:\n",
    "                x = num\n",
    "                break\n",
    "                \n",
    "        for i in range(len(nums)):\n",
    "            if nums[i] > 0:\n",
    "                nums[i] -= x\n",
    "                \n",
    "        result += 1\n",
    "    return result"
   ]
  },
  {
   "cell_type": "code",
   "execution_count": 22,
   "metadata": {},
   "outputs": [
    {
     "data": {
      "text/plain": [
       "3"
      ]
     },
     "execution_count": 22,
     "metadata": {},
     "output_type": "execute_result"
    }
   ],
   "source": [
    "nums = [1,5,0,3,5]\n",
    "minimumOperations(nums)"
   ]
  },
  {
   "cell_type": "code",
   "execution_count": 25,
   "metadata": {},
   "outputs": [],
   "source": [
    "# O(n)\n",
    "def minimumOperations(nums):\n",
    "    # if we have [1, 5, 0, 3, 5]\n",
    "    # we only have to consider [1, 3, 5]\n",
    "    # which is the length of [1, 3, 5]\n",
    "    # therefore 3.\n",
    "    return len(set(nums) - {0})"
   ]
  },
  {
   "cell_type": "code",
   "execution_count": 26,
   "metadata": {},
   "outputs": [
    {
     "data": {
      "text/plain": [
       "3"
      ]
     },
     "execution_count": 26,
     "metadata": {},
     "output_type": "execute_result"
    }
   ],
   "source": [
    "nums = [1,5,0,3,5]\n",
    "minimumOperations(nums)"
   ]
  },
  {
   "cell_type": "markdown",
   "metadata": {},
   "source": [
    "## Q8: LeetCode #1217 Maximum Cost to Move Chips to the Same Position\n",
    "https://leetcode.com/problems/minimum-cost-to-move-chips-to-the-same-position/"
   ]
  },
  {
   "cell_type": "code",
   "execution_count": 27,
   "metadata": {},
   "outputs": [],
   "source": [
    "def MinCostToMoveChips(position):\n",
    "    if not position or len(set(position)) == 1:\n",
    "        return 0\n",
    "    \n",
    "    count = dict()\n",
    "    \n",
    "    # since the cost form position = position - 2 = 0\n",
    "    # just get the modulus of position[i]\n",
    "    # so only position and 1 exist.\n",
    "    \n",
    "    for i in range(len(position)):\n",
    "        if position[i] % 2 not in count:\n",
    "            count[position[i] % 2] = 1\n",
    "        else:\n",
    "            count[position[i] % 2] += 1\n",
    "    print(count)\n",
    "    \n",
    "    if count[0] < count[1]:\n",
    "        return count[0]\n",
    "    else:\n",
    "        return count[1]"
   ]
  },
  {
   "cell_type": "code",
   "execution_count": 28,
   "metadata": {},
   "outputs": [
    {
     "name": "stdout",
     "output_type": "stream",
     "text": [
      "{1: 2, 0: 1}\n"
     ]
    },
    {
     "data": {
      "text/plain": [
       "1"
      ]
     },
     "execution_count": 28,
     "metadata": {},
     "output_type": "execute_result"
    }
   ],
   "source": [
    "position = [1,2,3]\n",
    "MinCostToMoveChips(position)"
   ]
  },
  {
   "cell_type": "code",
   "execution_count": 29,
   "metadata": {},
   "outputs": [
    {
     "name": "stdout",
     "output_type": "stream",
     "text": [
      "{0: 3, 1: 2}\n"
     ]
    },
    {
     "data": {
      "text/plain": [
       "2"
      ]
     },
     "execution_count": 29,
     "metadata": {},
     "output_type": "execute_result"
    }
   ],
   "source": [
    "position = [2,2,2,3,3]\n",
    "MinCostToMoveChips(position)"
   ]
  },
  {
   "cell_type": "code",
   "execution_count": 30,
   "metadata": {},
   "outputs": [
    {
     "name": "stdout",
     "output_type": "stream",
     "text": [
      "{1: 1, 0: 1}\n"
     ]
    },
    {
     "data": {
      "text/plain": [
       "1"
      ]
     },
     "execution_count": 30,
     "metadata": {},
     "output_type": "execute_result"
    }
   ],
   "source": [
    "position = [1,1000000000]\n",
    "MinCostToMoveChips(position)"
   ]
  },
  {
   "cell_type": "markdown",
   "metadata": {},
   "source": [
    "# Q9: LeetCode #2389 Longest Subsequence with Limited Sum\n",
    "https://leetcode.com/problems/longest-subsequence-with-limited-sum/"
   ]
  },
  {
   "cell_type": "code",
   "execution_count": 38,
   "metadata": {},
   "outputs": [],
   "source": [
    "import itertools\n",
    "from bisect import bisect_right\n",
    "\n",
    "def answerQueries(nums, queries):\n",
    "    # calculate the cumsum of nums\n",
    "    A = list(itertools.accumulate(sorted(nums)))\n",
    "    print(\"A:\", A)\n",
    "    \n",
    "    # return the index of cumsum = maximum size\n",
    "    return [bisect_right(A,q) for q in queries]"
   ]
  },
  {
   "cell_type": "code",
   "execution_count": 39,
   "metadata": {},
   "outputs": [
    {
     "name": "stdout",
     "output_type": "stream",
     "text": [
      "A: [1, 3, 7, 12]\n"
     ]
    },
    {
     "data": {
      "text/plain": [
       "[2, 3, 4]"
      ]
     },
     "execution_count": 39,
     "metadata": {},
     "output_type": "execute_result"
    }
   ],
   "source": [
    "nums = [4,5,2,1]\n",
    "queries = [3,10,21]\n",
    "answerQueries(nums, queries)"
   ]
  },
  {
   "cell_type": "code",
   "execution_count": 40,
   "metadata": {},
   "outputs": [
    {
     "name": "stdout",
     "output_type": "stream",
     "text": [
      "A: [2, 5, 9, 14]\n"
     ]
    },
    {
     "data": {
      "text/plain": [
       "[0]"
      ]
     },
     "execution_count": 40,
     "metadata": {},
     "output_type": "execute_result"
    }
   ],
   "source": [
    "nums = [2,3,4,5]\n",
    "queries = [1]\n",
    "answerQueries(nums, queries)"
   ]
  },
  {
   "cell_type": "markdown",
   "metadata": {},
   "source": [
    "## Q10: LeetCode #1221 Split a String in Balanced Strings\n",
    "https://leetcode.com/problems/split-a-string-in-balanced-strings/"
   ]
  },
  {
   "cell_type": "code",
   "execution_count": 41,
   "metadata": {},
   "outputs": [],
   "source": [
    "def balancedStringSplit(s):\n",
    "    result = left = right = 0\n",
    "    \n",
    "    for letter in s:\n",
    "        if letter == \"L\":\n",
    "            left += 1\n",
    "        else:\n",
    "            right += 1\n",
    "        \n",
    "        if left == right:\n",
    "            result += 1\n",
    "    return result"
   ]
  },
  {
   "cell_type": "code",
   "execution_count": 42,
   "metadata": {},
   "outputs": [
    {
     "data": {
      "text/plain": [
       "4"
      ]
     },
     "execution_count": 42,
     "metadata": {},
     "output_type": "execute_result"
    }
   ],
   "source": [
    "s = \"RLRRLLRLRL\"\n",
    "balancedStringSplit(s)"
   ]
  },
  {
   "cell_type": "code",
   "execution_count": 43,
   "metadata": {},
   "outputs": [
    {
     "data": {
      "text/plain": [
       "2"
      ]
     },
     "execution_count": 43,
     "metadata": {},
     "output_type": "execute_result"
    }
   ],
   "source": [
    "s = \"RLRRRLLRLL\"\n",
    "balancedStringSplit(s)"
   ]
  },
  {
   "cell_type": "code",
   "execution_count": 44,
   "metadata": {},
   "outputs": [
    {
     "data": {
      "text/plain": [
       "1"
      ]
     },
     "execution_count": 44,
     "metadata": {},
     "output_type": "execute_result"
    }
   ],
   "source": [
    "s = \"LLLLRRRR\"\n",
    "balancedStringSplit(s)"
   ]
  },
  {
   "cell_type": "markdown",
   "metadata": {},
   "source": [
    "# Q11: LeetCode #1827 Minimum Operations to Make the Array Increasing\n",
    "https://leetcode.com/problems/minimum-operations-to-make-the-array-increasing/"
   ]
  },
  {
   "cell_type": "code",
   "execution_count": 45,
   "metadata": {},
   "outputs": [],
   "source": [
    "def minOperations(nums):\n",
    "    if len(nums) < 2:\n",
    "        return 0\n",
    "    \n",
    "    result = 0\n",
    "    for i in range(1, len(nums)):\n",
    "        if nums[i-1] >= nums[i]:\n",
    "            result += (nums[i-1] - nums[i] + 1)\n",
    "            nums[i] += (nums[i-1] - nums[i] + 1)\n",
    "    return result"
   ]
  },
  {
   "cell_type": "code",
   "execution_count": 46,
   "metadata": {},
   "outputs": [
    {
     "data": {
      "text/plain": [
       "3"
      ]
     },
     "execution_count": 46,
     "metadata": {},
     "output_type": "execute_result"
    }
   ],
   "source": [
    "nums = [1,1,1]\n",
    "minOperations(nums)"
   ]
  },
  {
   "cell_type": "code",
   "execution_count": 47,
   "metadata": {},
   "outputs": [
    {
     "data": {
      "text/plain": [
       "14"
      ]
     },
     "execution_count": 47,
     "metadata": {},
     "output_type": "execute_result"
    }
   ],
   "source": [
    "nums = [1,5,2,4,1]\n",
    "minOperations(nums)"
   ]
  },
  {
   "cell_type": "markdown",
   "metadata": {},
   "source": [
    "## Q12: LeetCode #976 Largest Perimeter Triangle\n",
    "https://leetcode.com/problems/largest-perimeter-triangle/"
   ]
  },
  {
   "cell_type": "code",
   "execution_count": 50,
   "metadata": {},
   "outputs": [],
   "source": [
    "def largestPerimeter(nums):\n",
    "    max_length = 0\n",
    "    nums = sorted(nums)\n",
    "    \n",
    "    while len(nums) >= 3:\n",
    "        two_sum = sum(nums[-3:-1])\n",
    "        max_val = nums[-1]\n",
    "        \n",
    "        if two_sum > max_val:\n",
    "            if max_length < two_sum:\n",
    "                max_length = two_sum + max_val\n",
    "        nums = nums[:-1]\n",
    "        \n",
    "    return max_length"
   ]
  },
  {
   "cell_type": "code",
   "execution_count": 51,
   "metadata": {},
   "outputs": [
    {
     "data": {
      "text/plain": [
       "5"
      ]
     },
     "execution_count": 51,
     "metadata": {},
     "output_type": "execute_result"
    }
   ],
   "source": [
    "nums = [2,1,2]\n",
    "largestPerimeter(nums)"
   ]
  },
  {
   "cell_type": "code",
   "execution_count": 52,
   "metadata": {},
   "outputs": [
    {
     "data": {
      "text/plain": [
       "0"
      ]
     },
     "execution_count": 52,
     "metadata": {},
     "output_type": "execute_result"
    }
   ],
   "source": [
    "nums = [1,2,1,10]\n",
    "largestPerimeter(nums)"
   ]
  },
  {
   "cell_type": "markdown",
   "metadata": {},
   "source": [
    "## Q13:LeetCode #27 Remove Element\n",
    "https://leetcode.com/problems/remove-element/"
   ]
  },
  {
   "cell_type": "code",
   "execution_count": 53,
   "metadata": {},
   "outputs": [],
   "source": [
    "def removeElement(nums, val):\n",
    "    appearance = 0\n",
    "    \n",
    "    for i in range(len(nums)):\n",
    "        if nums[i] == val:\n",
    "            appearance += 1\n",
    "            \n",
    "    for _ in range(appearance):\n",
    "        nums.remove(val)\n",
    "        nums.append(val)\n",
    "    print(nums)\n",
    "    \n",
    "    return len(nums) - appearance"
   ]
  },
  {
   "cell_type": "code",
   "execution_count": 54,
   "metadata": {},
   "outputs": [
    {
     "name": "stdout",
     "output_type": "stream",
     "text": [
      "[2, 2, 3, 3]\n"
     ]
    },
    {
     "data": {
      "text/plain": [
       "2"
      ]
     },
     "execution_count": 54,
     "metadata": {},
     "output_type": "execute_result"
    }
   ],
   "source": [
    "nums = [3,2,2,3]\n",
    "val = 3\n",
    "removeElement(nums, val)"
   ]
  },
  {
   "cell_type": "code",
   "execution_count": 55,
   "metadata": {},
   "outputs": [
    {
     "name": "stdout",
     "output_type": "stream",
     "text": [
      "[0, 1, 3, 0, 4, 2, 2, 2]\n"
     ]
    },
    {
     "data": {
      "text/plain": [
       "5"
      ]
     },
     "execution_count": 55,
     "metadata": {},
     "output_type": "execute_result"
    }
   ],
   "source": [
    "nums = [0,1,2,2,3,0,4,2]\n",
    "val = 2\n",
    "removeElement(nums, val)"
   ]
  },
  {
   "cell_type": "markdown",
   "metadata": {},
   "source": [
    "## Q14:LeetCode #860 Lemonade Change\n",
    "https://leetcode.com/problems/lemonade-change/"
   ]
  },
  {
   "cell_type": "code",
   "execution_count": 56,
   "metadata": {},
   "outputs": [],
   "source": [
    "def lemonadeChange(bills):\n",
    "    count_5, count_10 = 0, 0\n",
    "    \n",
    "    for bill in bills:\n",
    "        if bill == 5:\n",
    "            count_5 += 1\n",
    "        elif bill == 10:\n",
    "            count_10 += 1\n",
    "            if not count_5:\n",
    "                return False\n",
    "            count_5 -= 1\n",
    "        else:\n",
    "            if count_5 and count_10:\n",
    "                count_10 -= 1\n",
    "                count_5 -= 1\n",
    "            elif not count_10 and count_5 > 2:\n",
    "                count_5 -= 3\n",
    "            else:\n",
    "                return False\n",
    "    return True"
   ]
  },
  {
   "cell_type": "code",
   "execution_count": 57,
   "metadata": {},
   "outputs": [
    {
     "data": {
      "text/plain": [
       "True"
      ]
     },
     "execution_count": 57,
     "metadata": {},
     "output_type": "execute_result"
    }
   ],
   "source": [
    "bills = [5,5,5,10,20]\n",
    "lemonadeChange(bills)"
   ]
  },
  {
   "cell_type": "markdown",
   "metadata": {},
   "source": [
    "## Q15: LeetCode #860 Partitioning into Minimum Number Of Deci-Binary Numbers\n",
    "https://leetcode.com/problems/partitioning-into-minimum-number-of-deci-binary-numbers/description/\n",
    "\n",
    "- 32: 21 -> 10 -> 0\n",
    "- 30: 20 -> 10 -> 0\n",
    "- 82734: 71623 -> 60512 -> 50401 -> 40300 -> 30200 -> 20100 -> 10000 -> 0\n",
    "- 27346209830709182346: 11235108720608071235 -> 00124007610507060124 -> 00013006500406050013 -> 00002005400305040002 -> 00001004300204030001 -> 00000003200103020000 -> 00000002100002010000 -> 00000001000001000000 -> 00000000000000000000\n",
    "\n",
    "$\\therefore$ Return the biggest digit number"
   ]
  },
  {
   "cell_type": "code",
   "execution_count": 15,
   "metadata": {},
   "outputs": [],
   "source": [
    "def minPartitions(n):\n",
    "    return int(max([letter for letter in n]))"
   ]
  },
  {
   "cell_type": "code",
   "execution_count": 3,
   "metadata": {},
   "outputs": [
    {
     "data": {
      "text/plain": [
       "3"
      ]
     },
     "execution_count": 3,
     "metadata": {},
     "output_type": "execute_result"
    }
   ],
   "source": [
    "n = '32'\n",
    "minPartitions(n)"
   ]
  },
  {
   "cell_type": "code",
   "execution_count": 4,
   "metadata": {},
   "outputs": [
    {
     "data": {
      "text/plain": [
       "3"
      ]
     },
     "execution_count": 4,
     "metadata": {},
     "output_type": "execute_result"
    }
   ],
   "source": [
    "n = '30'\n",
    "minPartitions(n)"
   ]
  },
  {
   "cell_type": "code",
   "execution_count": 5,
   "metadata": {},
   "outputs": [
    {
     "data": {
      "text/plain": [
       "8"
      ]
     },
     "execution_count": 5,
     "metadata": {},
     "output_type": "execute_result"
    }
   ],
   "source": [
    "n = '82734'\n",
    "minPartitions(n)"
   ]
  },
  {
   "cell_type": "code",
   "execution_count": 6,
   "metadata": {},
   "outputs": [
    {
     "data": {
      "text/plain": [
       "9"
      ]
     },
     "execution_count": 6,
     "metadata": {},
     "output_type": "execute_result"
    }
   ],
   "source": [
    "n = '27346209830709182346'\n",
    "minPartitions(n)"
   ]
  },
  {
   "cell_type": "markdown",
   "metadata": {},
   "source": [
    "## Q16:LeetCode #2405 Optimal Partition of String\n",
    "https://leetcode.com/problems/optimal-partition-of-string/"
   ]
  },
  {
   "cell_type": "code",
   "execution_count": 12,
   "metadata": {},
   "outputs": [],
   "source": [
    "def partitionString(s):\n",
    "    result = []\n",
    "    chunk = \"\"\n",
    "    for letter in s:\n",
    "        # print(letter)\n",
    "        if letter in chunk:\n",
    "            result.append(chunk)\n",
    "            chunk = \"\"\n",
    "        chunk += letter\n",
    "    result.append(chunk)\n",
    "    # print(result)\n",
    "    return len(result)"
   ]
  },
  {
   "cell_type": "code",
   "execution_count": 13,
   "metadata": {},
   "outputs": [
    {
     "data": {
      "text/plain": [
       "4"
      ]
     },
     "execution_count": 13,
     "metadata": {},
     "output_type": "execute_result"
    }
   ],
   "source": [
    "s = \"abacaba\"\n",
    "partitionString(s)"
   ]
  },
  {
   "cell_type": "code",
   "execution_count": 14,
   "metadata": {},
   "outputs": [
    {
     "data": {
      "text/plain": [
       "6"
      ]
     },
     "execution_count": 14,
     "metadata": {},
     "output_type": "execute_result"
    }
   ],
   "source": [
    "s = \"ssssss\"\n",
    "partitionString(s)"
   ]
  },
  {
   "cell_type": "markdown",
   "metadata": {},
   "source": [
    "## Q17: Fixed Sized Sliding Windows\n",
    "https://www.youtube.com/watch?v=GcW4mgmgSbw\n",
    "\n",
    "### Given an array and find the sum of all subarrays of length k.\n",
    "\n",
    "$\\therefore$ O(n * k)"
   ]
  },
  {
   "cell_type": "code",
   "execution_count": 2,
   "metadata": {},
   "outputs": [
    {
     "data": {
      "text/plain": [
       "[6, 9, 12, 15]"
      ]
     },
     "execution_count": 2,
     "metadata": {},
     "output_type": "execute_result"
    }
   ],
   "source": [
    "def bad_example(array, k):\n",
    "    result = []\n",
    "    for i in range(len(array) - k + 1):\n",
    "        sums = sum(array[i:i+k])\n",
    "        result.append(sums)\n",
    "    return result\n",
    "bad_example([1,2,3,4,5,6], 3)"
   ]
  },
  {
   "cell_type": "code",
   "execution_count": 3,
   "metadata": {},
   "outputs": [
    {
     "data": {
      "text/plain": [
       "[15, 20]"
      ]
     },
     "execution_count": 3,
     "metadata": {},
     "output_type": "execute_result"
    }
   ],
   "source": [
    "bad_example([1,2,3,4,5,6], 5)"
   ]
  },
  {
   "cell_type": "markdown",
   "metadata": {},
   "source": [
    "Every time we compute the sum of a subarary, we compute the sum of first $k$ values, then we compute the sum of the next $k$ values. This means we are actually computing the sum of overlapping $k-1$ values twice. We do not need to recompute everything. All we need to do is look at the difference between the two subarrays: $9 = 6 - 1 + 4$. When $k = 5$, $20 = 15 - (1 - 6)$.\n",
    "\n",
    "$\\therefore$ O(n)"
   ]
  },
  {
   "cell_type": "code",
   "execution_count": 4,
   "metadata": {},
   "outputs": [],
   "source": [
    "def good_example(array, k):\n",
    "    curr_subarray = sum(array[:k])\n",
    "    result = [curr_subarray]\n",
    "    \n",
    "    for i in range(1, len(array) - k + 1):\n",
    "        curr_subarray = curr_subarray - array[i-1] + array[i+k-1]\n",
    "        result.append(curr_subarray)\n",
    "        \n",
    "    return result"
   ]
  },
  {
   "cell_type": "code",
   "execution_count": 5,
   "metadata": {},
   "outputs": [
    {
     "data": {
      "text/plain": [
       "[6, 9, 12, 15]"
      ]
     },
     "execution_count": 5,
     "metadata": {},
     "output_type": "execute_result"
    }
   ],
   "source": [
    "good_example([1,2,3,4,5,6], 3)"
   ]
  },
  {
   "cell_type": "code",
   "execution_count": 6,
   "metadata": {},
   "outputs": [
    {
     "data": {
      "text/plain": [
       "[15, 20]"
      ]
     },
     "execution_count": 6,
     "metadata": {},
     "output_type": "execute_result"
    }
   ],
   "source": [
    "good_example([1,2,3,4,5,6], 5)"
   ]
  },
  {
   "cell_type": "markdown",
   "metadata": {},
   "source": [
    "## Q18: Dynamically Sized Sliding Windows\n",
    "\n",
    "### Find the shortest subarray with the sum that is greater than or equal to x.\n",
    "\n",
    "In this case, we do not know what size the subarray needs to be. So, our dynamic sliding window allows us to start with small and expand until we match the condition that we need. Once we find the subarray that matches our sum, then we try to contract again from the other side to get what is minimally sized subarray that has a sum that is greater than or equal to x."
   ]
  },
  {
   "cell_type": "code",
   "execution_count": 11,
   "metadata": {},
   "outputs": [
    {
     "name": "stdout",
     "output_type": "stream",
     "text": [
      "Current array: [1]\n",
      "Current Sum: 1\n",
      "\n",
      "Current array: [1, 2]\n",
      "Current Sum: 3\n",
      "\n",
      "Current array: [1, 2, 3]\n",
      "Current Sum: 6\n",
      "\n",
      "Current array: [1, 2, 3, 4]\n",
      "Current Sum: 10\n",
      "\n",
      "10 is greater than or equal to 7\n",
      "Current array: [1, 2, 3, 4]\n",
      "Current Sum: 10\n",
      "min length: 4\n",
      "\n",
      "9 is greater than or equal to 7\n",
      "Current array: [2, 3, 4]\n",
      "Current Sum: 9\n",
      "min length: 3\n",
      "\n",
      "7 is greater than or equal to 7\n",
      "Current array: [3, 4]\n",
      "Current Sum: 7\n",
      "min length: 2\n",
      "\n",
      "Current array: [4, 5]\n",
      "Current Sum: 9\n",
      "\n",
      "9 is greater than or equal to 7\n",
      "Current array: [4, 5]\n",
      "Current Sum: 9\n",
      "min length: 2\n",
      "\n",
      "Current array: [5, 6]\n",
      "Current Sum: 11\n",
      "\n",
      "11 is greater than or equal to 7\n",
      "Current array: [5, 6]\n",
      "Current Sum: 11\n",
      "min length: 2\n",
      "\n"
     ]
    },
    {
     "data": {
      "text/plain": [
       "2"
      ]
     },
     "execution_count": 11,
     "metadata": {},
     "output_type": "execute_result"
    }
   ],
   "source": [
    "def dynamic_sliding_window(arr, x):\n",
    "    min_length = float('inf')\n",
    "    \n",
    "    # the current range and sum of our sliding window\n",
    "    start, end, curr_sum = 0, 0, 0\n",
    "    \n",
    "    # extend the sliding window until our criteria is met\n",
    "    while end < len(arr):\n",
    "        curr_sum = curr_sum + arr[end]\n",
    "        end += 1\n",
    "        print(\"Current array:\", arr[start:end])\n",
    "        print(\"Current Sum:\", curr_sum)\n",
    "        print()\n",
    "        \n",
    "        # then contract the sliding window until\n",
    "        # it no longer meets our condition\n",
    "        while start < end and curr_sum >= x:\n",
    "            print(f\"{curr_sum} is greater than or equal to {x}\")\n",
    "            print(\"Current array:\", arr[start:end])\n",
    "            print(\"Current Sum:\", curr_sum)\n",
    "            curr_sum -= arr[start]\n",
    "            start += 1\n",
    "            \n",
    "            # update the min_length if it's shorter\n",
    "            # than the curr_min\n",
    "            min_length = min(min_length, end - start + 1)\n",
    "            print(\"min length:\", min_length)\n",
    "            print()\n",
    "    return min_length\n",
    "\n",
    "dynamic_sliding_window([1,2,3,4,5,6], 7)"
   ]
  },
  {
   "cell_type": "markdown",
   "metadata": {},
   "source": [
    "- Naive appraoch to calculate the sum of every single subarry which one is the shortest: $N^2$ subarrays x sum of each array $\\therefore O(n^3)$ \n",
    "\n",
    "- Dynamic Approach: On each turn, we're either moving the start pointer or moving the end pointer and each is moving in one direction. And each is moving at least one step per turn. In total, both of those pointers move from the beginning of an array to the end of an array $\\therefore O(n)$"
   ]
  },
  {
   "cell_type": "markdown",
   "metadata": {},
   "source": [
    "## Q19: LeetCode #561 Array Partition\n",
    "https://leetcode.com/problems/array-partition/"
   ]
  },
  {
   "cell_type": "code",
   "execution_count": 1,
   "metadata": {},
   "outputs": [],
   "source": [
    "def arrayPairSum(nums):\n",
    "    nums = sorted(nums)\n",
    "    result = 0\n",
    "    \n",
    "    for i in range(0, len(nums), 2):\n",
    "        result += nums[i]\n",
    "        \n",
    "    return result"
   ]
  },
  {
   "cell_type": "code",
   "execution_count": 3,
   "metadata": {},
   "outputs": [
    {
     "data": {
      "text/plain": [
       "4"
      ]
     },
     "execution_count": 3,
     "metadata": {},
     "output_type": "execute_result"
    }
   ],
   "source": [
    "nums = [1,4,3,2]\n",
    "arrayPairSum(nums)"
   ]
  },
  {
   "cell_type": "code",
   "execution_count": 4,
   "metadata": {},
   "outputs": [
    {
     "data": {
      "text/plain": [
       "9"
      ]
     },
     "execution_count": 4,
     "metadata": {},
     "output_type": "execute_result"
    }
   ],
   "source": [
    "nums = [6,2,6,5,1,2]\n",
    "arrayPairSum(nums)"
   ]
  },
  {
   "cell_type": "markdown",
   "metadata": {},
   "source": [
    "## Q20:LeetCode #2578 Split with Minimum Sum\n",
    "https://leetcode.com/problems/split-with-minimum-sum/"
   ]
  },
  {
   "cell_type": "code",
   "execution_count": 5,
   "metadata": {},
   "outputs": [],
   "source": [
    "from collections import deque\n",
    "\n",
    "def splitNum(num):\n",
    "    queue = deque(sorted(str(num)))\n",
    "    num1, num2 = '', ''\n",
    "    count = 0\n",
    "    \n",
    "    while queue:\n",
    "        if count % 2 == 0:\n",
    "            num1 += queue.popleft()\n",
    "        else:\n",
    "            num2 += queue.popleft()\n",
    "        count += 1\n",
    "        \n",
    "    return int(num1) + int(num2)"
   ]
  },
  {
   "cell_type": "code",
   "execution_count": 6,
   "metadata": {},
   "outputs": [
    {
     "data": {
      "text/plain": [
       "59"
      ]
     },
     "execution_count": 6,
     "metadata": {},
     "output_type": "execute_result"
    }
   ],
   "source": [
    "num = 4325\n",
    "splitNum(num)"
   ]
  },
  {
   "cell_type": "code",
   "execution_count": 7,
   "metadata": {},
   "outputs": [
    {
     "data": {
      "text/plain": [
       "75"
      ]
     },
     "execution_count": 7,
     "metadata": {},
     "output_type": "execute_result"
    }
   ],
   "source": [
    "num = 687\n",
    "splitNum(num)"
   ]
  },
  {
   "cell_type": "code",
   "execution_count": null,
   "metadata": {},
   "outputs": [],
   "source": []
  }
 ],
 "metadata": {
  "kernelspec": {
   "display_name": "Python 3",
   "language": "python",
   "name": "python3"
  },
  "language_info": {
   "codemirror_mode": {
    "name": "ipython",
    "version": 3
   },
   "file_extension": ".py",
   "mimetype": "text/x-python",
   "name": "python",
   "nbconvert_exporter": "python",
   "pygments_lexer": "ipython3",
   "version": "3.8.8"
  }
 },
 "nbformat": 4,
 "nbformat_minor": 4
}
