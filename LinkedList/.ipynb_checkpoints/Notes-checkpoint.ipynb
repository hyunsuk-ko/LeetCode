{
 "cells": [
  {
   "cell_type": "code",
   "execution_count": 1,
   "metadata": {},
   "outputs": [],
   "source": [
    "class ListNode:\n",
    "    def __init__(self, val=0, next=None):\n",
    "        self.val = val\n",
    "        self.next = next"
   ]
  },
  {
   "cell_type": "markdown",
   "metadata": {},
   "source": [
    "## Q1: LeetCode #1290 Convert Binary Number in a Linked List to Integer\n",
    "https://leetcode.com/problems/convert-binary-number-in-a-linked-list-to-integer/"
   ]
  },
  {
   "cell_type": "code",
   "execution_count": 2,
   "metadata": {},
   "outputs": [],
   "source": [
    "def getDecimalValue(head):\n",
    "    if not head:\n",
    "        return None\n",
    "    \n",
    "    nums = []\n",
    "    while head:\n",
    "        nums.append(head.val)\n",
    "        head = head.next\n",
    "        \n",
    "    result = 0\n",
    "    j = len(nums) - 1\n",
    "    \n",
    "    for i in range(len(nums)):\n",
    "        if nums[i] != 0:\n",
    "            result += 2 ** j\n",
    "        j -= 1\n",
    "        \n",
    "    return result"
   ]
  },
  {
   "cell_type": "code",
   "execution_count": 3,
   "metadata": {},
   "outputs": [
    {
     "data": {
      "text/plain": [
       "5"
      ]
     },
     "execution_count": 3,
     "metadata": {},
     "output_type": "execute_result"
    }
   ],
   "source": [
    "head = ListNode(1)\n",
    "head.next = ListNode(0)\n",
    "head.next.next = ListNode(1)\n",
    "getDecimalValue(head)"
   ]
  },
  {
   "cell_type": "markdown",
   "metadata": {},
   "source": [
    "## Q2: LeetCode #21 Merge Two Sorted Lists\n",
    "https://leetcode.com/problems/merge-two-sorted-lists/?envType=study-plan&id=level-1"
   ]
  },
  {
   "cell_type": "code",
   "execution_count": 4,
   "metadata": {},
   "outputs": [],
   "source": [
    "def mergeTwoList(l1, l2):\n",
    "    if not l1:\n",
    "        return l2\n",
    "    elif not l2:\n",
    "        return l1\n",
    "    \n",
    "    preHead = ListNode(-1)\n",
    "    prev = preHead\n",
    "    \n",
    "    while l1 and l2:\n",
    "        if l1.val <= l2.val:\n",
    "            prev.next = l1\n",
    "            l1 = l1.next\n",
    "        else:\n",
    "            prev.next = l2\n",
    "            l2 = l2.next\n",
    "        prev = prev.next\n",
    "        print(prev.val)\n",
    "        \n",
    "    if l1 is not None:\n",
    "        prev.next = l1\n",
    "    else:\n",
    "        prev.next = l2\n",
    "        \n",
    "    return preHead.next"
   ]
  },
  {
   "cell_type": "code",
   "execution_count": 6,
   "metadata": {},
   "outputs": [
    {
     "name": "stdout",
     "output_type": "stream",
     "text": [
      "1\n",
      "1\n",
      "2\n",
      "3\n",
      "4\n"
     ]
    },
    {
     "data": {
      "text/plain": [
       "<__main__.ListNode at 0x7f12c4c30ac0>"
      ]
     },
     "execution_count": 6,
     "metadata": {},
     "output_type": "execute_result"
    }
   ],
   "source": [
    "list1 = ListNode(1)\n",
    "list1.next = ListNode(2)\n",
    "list1.next.next = ListNode(4)\n",
    "\n",
    "list2 = ListNode(1)\n",
    "list2.next = ListNode(3)\n",
    "list2.next.next = ListNode(4)\n",
    "\n",
    "mergeTwoList(list1, list2)"
   ]
  },
  {
   "cell_type": "markdown",
   "metadata": {},
   "source": [
    "## Q3: LeetCode #83 Remove Duplicates from Sorted List\n",
    "https://leetcode.com/problems/remove-duplicates-from-sorted-list/"
   ]
  },
  {
   "cell_type": "code",
   "execution_count": 8,
   "metadata": {},
   "outputs": [],
   "source": [
    "def deleteDuplicates(head):\n",
    "    if not head:\n",
    "        return None\n",
    "    \"\"\"\n",
    "    curr is the instance of head.\n",
    "    If we update curr, then head\n",
    "    is also updated. We're using curr\n",
    "    just to iterate over each node of head.\n",
    "    \"\"\"\n",
    "    \n",
    "    curr = head\n",
    "    \n",
    "    while curr.next:\n",
    "        if curr.val == curr.next.val:\n",
    "            curr.next = curr.next.next\n",
    "        else:\n",
    "            print(curr.val)\n",
    "            curr = curr.next\n",
    "    print(curr.val)\n",
    "    return head"
   ]
  },
  {
   "cell_type": "code",
   "execution_count": 9,
   "metadata": {},
   "outputs": [
    {
     "name": "stdout",
     "output_type": "stream",
     "text": [
      "1\n",
      "2\n"
     ]
    },
    {
     "data": {
      "text/plain": [
       "<__main__.ListNode at 0x7f12c43ccd00>"
      ]
     },
     "execution_count": 9,
     "metadata": {},
     "output_type": "execute_result"
    }
   ],
   "source": [
    "head = ListNode(1)\n",
    "head.next = ListNode(1)\n",
    "head.next.next = ListNode(2)\n",
    "deleteDuplicates(head)"
   ]
  },
  {
   "cell_type": "code",
   "execution_count": 10,
   "metadata": {},
   "outputs": [
    {
     "name": "stdout",
     "output_type": "stream",
     "text": [
      "1\n",
      "2\n",
      "3\n"
     ]
    },
    {
     "data": {
      "text/plain": [
       "<__main__.ListNode at 0x7f12c4c3c850>"
      ]
     },
     "execution_count": 10,
     "metadata": {},
     "output_type": "execute_result"
    }
   ],
   "source": [
    "head = ListNode(1)\n",
    "head.next = ListNode(1)\n",
    "head.next.next = ListNode(2)\n",
    "head.next.next.next = ListNode(3)\n",
    "head.next.next.next.next = ListNode(3)\n",
    "deleteDuplicates(head)"
   ]
  },
  {
   "cell_type": "markdown",
   "metadata": {},
   "source": [
    "## Q4: LeetCode #142 Linked List Cycle 2\n",
    "https://leetcode.com/problems/linked-list-cycle-ii/"
   ]
  },
  {
   "cell_type": "code",
   "execution_count": 11,
   "metadata": {},
   "outputs": [],
   "source": [
    "def detectCycle(head):\n",
    "    if not head:\n",
    "        return None\n",
    "    \n",
    "    records = []\n",
    "    while head:\n",
    "        if head in records:\n",
    "            print(head.val)\n",
    "            return head\n",
    "        records.append(head)\n",
    "        print(head.val)\n",
    "        head = head.next\n",
    "    return None"
   ]
  },
  {
   "cell_type": "code",
   "execution_count": 13,
   "metadata": {},
   "outputs": [
    {
     "name": "stdout",
     "output_type": "stream",
     "text": [
      "3\n",
      "2\n",
      "0\n",
      "-4\n",
      "2\n",
      "0\n",
      "-4\n"
     ]
    }
   ],
   "source": [
    "head = ListNode(3)\n",
    "head.next = ListNode(2)\n",
    "head.next.next = ListNode(0)\n",
    "head.next.next.next = ListNode(-4)\n",
    "head.next.next.next.next = ListNode(2)\n",
    "head.next.next.next.next.next = ListNode(0)\n",
    "head.next.next.next.next.next.next = ListNode(-4)\n",
    "\n",
    "detectCycle(head)"
   ]
  },
  {
   "cell_type": "markdown",
   "metadata": {},
   "source": [
    "## Q5: LeetCode #206 Reversed Linked List\n",
    "https://leetcode.com/problems/linked-list-cycle-ii/"
   ]
  },
  {
   "cell_type": "code",
   "execution_count": 19,
   "metadata": {},
   "outputs": [],
   "source": [
    "def reverseList(head):\n",
    "    # the end of reversed linked list\n",
    "    # should be None.\n",
    "    prev = None\n",
    "    curr = head\n",
    "    \n",
    "    while curr:\n",
    "        # save the next node on temp\n",
    "        temp = curr.next\n",
    "        \n",
    "        # curr pointing to previous node\n",
    "        curr.next = prev\n",
    "        \n",
    "        # now the curr node becomes previous one.\n",
    "        prev = curr\n",
    "        \n",
    "        # current node becomes the next temp node\n",
    "        curr = temp\n",
    "        \n",
    "    return prev"
   ]
  },
  {
   "cell_type": "code",
   "execution_count": 20,
   "metadata": {},
   "outputs": [
    {
     "data": {
      "text/plain": [
       "<__main__.ListNode at 0x7f12c43cc640>"
      ]
     },
     "execution_count": 20,
     "metadata": {},
     "output_type": "execute_result"
    }
   ],
   "source": [
    "head = ListNode(1)\n",
    "head.next = ListNode(2)\n",
    "head.next.next = ListNode(3)\n",
    "head.next.next.next = ListNode(4)\n",
    "head.next.next.next.next = ListNode(5)\n",
    "\n",
    "reverseList(head)"
   ]
  },
  {
   "cell_type": "markdown",
   "metadata": {},
   "source": [
    "## Q6: LeetCode #234 Palindrome Linked List\n",
    "https://leetcode.com/problems/linked-list-cycle-ii/"
   ]
  },
  {
   "cell_type": "code",
   "execution_count": 21,
   "metadata": {},
   "outputs": [],
   "source": [
    "def isPalindrome(head):\n",
    "    nums = []\n",
    "    \n",
    "    while head:\n",
    "        nums.append(head.val)\n",
    "        head = head.next\n",
    "        \n",
    "    return nums == nums[::-1]"
   ]
  },
  {
   "cell_type": "code",
   "execution_count": 22,
   "metadata": {},
   "outputs": [
    {
     "data": {
      "text/plain": [
       "True"
      ]
     },
     "execution_count": 22,
     "metadata": {},
     "output_type": "execute_result"
    }
   ],
   "source": [
    "head = ListNode(1)\n",
    "head.next = ListNode(2)\n",
    "head.next.next = ListNode(2)\n",
    "head.next.next.next = ListNode(1)\n",
    "\n",
    "isPalindrome(head)"
   ]
  },
  {
   "cell_type": "code",
   "execution_count": 23,
   "metadata": {},
   "outputs": [
    {
     "data": {
      "text/plain": [
       "False"
      ]
     },
     "execution_count": 23,
     "metadata": {},
     "output_type": "execute_result"
    }
   ],
   "source": [
    "head = ListNode(1)\n",
    "head.next = ListNode(2)\n",
    "isPalindrome(head)"
   ]
  },
  {
   "cell_type": "markdown",
   "metadata": {},
   "source": [
    "## Q7: LeetCode #876 Middle of the Linked List\n",
    "https://leetcode.com/problems/middle-of-the-linked-list/"
   ]
  },
  {
   "cell_type": "code",
   "execution_count": 25,
   "metadata": {},
   "outputs": [],
   "source": [
    "def middleNode(head):\n",
    "    if not head:\n",
    "        return None\n",
    "    \n",
    "    curr = head\n",
    "    count = 0\n",
    "    \n",
    "    while curr:\n",
    "        count += 1\n",
    "        curr = curr.next\n",
    "        \n",
    "    curr = head\n",
    "    target = count // 2\n",
    "    \n",
    "    for i in range(count):\n",
    "        if i == target:\n",
    "            print(curr.val)\n",
    "            return curr\n",
    "        curr = curr.next"
   ]
  },
  {
   "cell_type": "code",
   "execution_count": 26,
   "metadata": {},
   "outputs": [
    {
     "name": "stdout",
     "output_type": "stream",
     "text": [
      "3\n"
     ]
    },
    {
     "data": {
      "text/plain": [
       "<__main__.ListNode at 0x7f12c4322b50>"
      ]
     },
     "execution_count": 26,
     "metadata": {},
     "output_type": "execute_result"
    }
   ],
   "source": [
    "head = ListNode(1)\n",
    "head.next = ListNode(2)\n",
    "head.next.next = ListNode(3)\n",
    "head.next.next.next = ListNode(4)\n",
    "head.next.next.next.next = ListNode(5)\n",
    "\n",
    "middleNode(head)"
   ]
  },
  {
   "cell_type": "markdown",
   "metadata": {},
   "source": [
    "## Q8: LeetCode #328 Odd Even Linked List\n",
    "https://leetcode.com/problems/odd-even-linked-list/"
   ]
  },
  {
   "cell_type": "code",
   "execution_count": null,
   "metadata": {},
   "outputs": [],
   "source": []
  }
 ],
 "metadata": {
  "kernelspec": {
   "display_name": "Python 3",
   "language": "python",
   "name": "python3"
  },
  "language_info": {
   "codemirror_mode": {
    "name": "ipython",
    "version": 3
   },
   "file_extension": ".py",
   "mimetype": "text/x-python",
   "name": "python",
   "nbconvert_exporter": "python",
   "pygments_lexer": "ipython3",
   "version": "3.8.8"
  }
 },
 "nbformat": 4,
 "nbformat_minor": 4
}
