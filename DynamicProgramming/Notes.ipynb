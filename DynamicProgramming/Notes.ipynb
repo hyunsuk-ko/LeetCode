{
 "cells": [
  {
   "cell_type": "markdown",
   "metadata": {},
   "source": [
    "## Q1: LeetCode #: Two Sum\n",
    "https://leetcode.com/problems/two-sum/\n",
    "\n",
    "https://www.youtube.com/watch?v=KLlXCFG5TnA"
   ]
  },
  {
   "cell_type": "code",
   "execution_count": 1,
   "metadata": {},
   "outputs": [],
   "source": [
    "# O(n) time complexity using HashMap\n",
    "def twoSum(nums, target):\n",
    "    prevMap = dict()\n",
    "    \n",
    "    for i, n in enumerate(nums):\n",
    "        diff = target - n # track diff\n",
    "        if diff in prevMap:\n",
    "            # return indices\n",
    "            return [prevMap[diff], i]\n",
    "        # key = num | val = index\n",
    "        prevMap[n] = i"
   ]
  },
  {
   "cell_type": "code",
   "execution_count": 2,
   "metadata": {},
   "outputs": [
    {
     "data": {
      "text/plain": [
       "[0, 1]"
      ]
     },
     "execution_count": 2,
     "metadata": {},
     "output_type": "execute_result"
    }
   ],
   "source": [
    "nums = [2,7,11,15]\n",
    "target = 9\n",
    "twoSum(nums, target)"
   ]
  },
  {
   "cell_type": "code",
   "execution_count": 3,
   "metadata": {},
   "outputs": [
    {
     "data": {
      "text/plain": [
       "[1, 2]"
      ]
     },
     "execution_count": 3,
     "metadata": {},
     "output_type": "execute_result"
    }
   ],
   "source": [
    "nums = [3,2,4]\n",
    "target = 6\n",
    "twoSum(nums, target)"
   ]
  },
  {
   "cell_type": "markdown",
   "metadata": {},
   "source": [
    "## Q2: LeetCode #509 Fibonacci Number\n",
    "https://leetcode.com/problems/fibonacci-number/?envType=study-plan&id=level-1"
   ]
  },
  {
   "cell_type": "code",
   "execution_count": 7,
   "metadata": {},
   "outputs": [],
   "source": [
    "fib_dict = dict()\n",
    "fib_dict[0] = 0\n",
    "fib_dict[1] = 1\n",
    "\n",
    "def fib(n):\n",
    "    if n in fib_dict:\n",
    "        return fib_dict[n]\n",
    "    \n",
    "    fib_dict[n] = fib(n-1) + fib(n-2)\n",
    "    \n",
    "    return fib_dict[n]"
   ]
  },
  {
   "cell_type": "code",
   "execution_count": 8,
   "metadata": {},
   "outputs": [
    {
     "data": {
      "text/plain": [
       "3"
      ]
     },
     "execution_count": 8,
     "metadata": {},
     "output_type": "execute_result"
    }
   ],
   "source": [
    "fib(4)"
   ]
  },
  {
   "cell_type": "code",
   "execution_count": 9,
   "metadata": {},
   "outputs": [
    {
     "data": {
      "text/plain": [
       "55"
      ]
     },
     "execution_count": 9,
     "metadata": {},
     "output_type": "execute_result"
    }
   ],
   "source": [
    "fib(10)"
   ]
  },
  {
   "cell_type": "markdown",
   "metadata": {},
   "source": [
    "## Q3: LeetCode #1137 N-th Fibonacci Number\n",
    "https://leetcode.com/problems/n-th-tribonacci-number/"
   ]
  },
  {
   "cell_type": "code",
   "execution_count": 11,
   "metadata": {},
   "outputs": [],
   "source": [
    "fib_dict = dict()\n",
    "fib_dict[0] = 0\n",
    "fib_dict[1] = 1\n",
    "fib_dict[2] = 1\n",
    "\n",
    "def fib(n):\n",
    "    if n in fib_dict:\n",
    "        return fib_dict[n]\n",
    "    else:\n",
    "        fib_dict[n] = fib(n-3) + fib(n-2) + fib(n-1)\n",
    "    return fib_dict[n]"
   ]
  },
  {
   "cell_type": "code",
   "execution_count": 12,
   "metadata": {},
   "outputs": [
    {
     "data": {
      "text/plain": [
       "4"
      ]
     },
     "execution_count": 12,
     "metadata": {},
     "output_type": "execute_result"
    }
   ],
   "source": [
    "fib(4)"
   ]
  },
  {
   "cell_type": "code",
   "execution_count": 13,
   "metadata": {},
   "outputs": [
    {
     "data": {
      "text/plain": [
       "1389537"
      ]
     },
     "execution_count": 13,
     "metadata": {},
     "output_type": "execute_result"
    }
   ],
   "source": [
    "fib(25)"
   ]
  },
  {
   "cell_type": "markdown",
   "metadata": {},
   "source": [
    "## Q4: LeetCode #70 Climbing Stairs\n",
    "https://leetcode.com/problems/climbing-stairs/description/?envType=study-plan&id=level-1"
   ]
  },
  {
   "cell_type": "code",
   "execution_count": 14,
   "metadata": {},
   "outputs": [],
   "source": [
    "step = dict()\n",
    "step[1] = 1\n",
    "step[2] = 2\n",
    "\n",
    "def climbStairs(n):\n",
    "    if n in step:\n",
    "        return step[n]\n",
    "    \n",
    "    step[n] = climbStairs(n-1) + climbStairs(n-2)\n",
    "    \n",
    "    return step[n]"
   ]
  },
  {
   "cell_type": "code",
   "execution_count": 15,
   "metadata": {},
   "outputs": [
    {
     "data": {
      "text/plain": [
       "2"
      ]
     },
     "execution_count": 15,
     "metadata": {},
     "output_type": "execute_result"
    }
   ],
   "source": [
    "climbStairs(2)"
   ]
  },
  {
   "cell_type": "code",
   "execution_count": 16,
   "metadata": {},
   "outputs": [
    {
     "data": {
      "text/plain": [
       "3"
      ]
     },
     "execution_count": 16,
     "metadata": {},
     "output_type": "execute_result"
    }
   ],
   "source": [
    "climbStairs(3)"
   ]
  },
  {
   "cell_type": "markdown",
   "metadata": {},
   "source": [
    "## Q5: LeetCode #746 Min Cost Climbing Stairs\n",
    "https://leetcode.com/problems/min-cost-climbing-stairs/?envType=study-plan&id=level-1"
   ]
  },
  {
   "cell_type": "code",
   "execution_count": 21,
   "metadata": {},
   "outputs": [],
   "source": [
    "def minCostClimbingStairs(cost):\n",
    "    N = len(cost)\n",
    "    dp = [0] * (N+1)\n",
    "    \n",
    "    for i in range(2, N+1):\n",
    "        # cost for climbing the step + cost so far\n",
    "        cost_1 = cost[i-1] + dp[i-1]\n",
    "        cost_2 = cost[i-2] + dp[i-2]\n",
    "        dp[i] = min(cost_1, cost_2)\n",
    "        print(i, dp[i])\n",
    "        \n",
    "    return dp[-1]"
   ]
  },
  {
   "cell_type": "code",
   "execution_count": 22,
   "metadata": {},
   "outputs": [
    {
     "name": "stdout",
     "output_type": "stream",
     "text": [
      "2 10\n",
      "3 15\n"
     ]
    },
    {
     "data": {
      "text/plain": [
       "15"
      ]
     },
     "execution_count": 22,
     "metadata": {},
     "output_type": "execute_result"
    }
   ],
   "source": [
    "cost = [10,15,20]\n",
    "minCostClimbingStairs(cost)"
   ]
  },
  {
   "cell_type": "code",
   "execution_count": 23,
   "metadata": {},
   "outputs": [
    {
     "name": "stdout",
     "output_type": "stream",
     "text": [
      "2 1\n",
      "3 2\n",
      "4 2\n",
      "5 3\n",
      "6 3\n",
      "7 4\n",
      "8 4\n",
      "9 5\n",
      "10 6\n"
     ]
    },
    {
     "data": {
      "text/plain": [
       "6"
      ]
     },
     "execution_count": 23,
     "metadata": {},
     "output_type": "execute_result"
    }
   ],
   "source": [
    "cost = [1,100,1,1,1,100,1,1,100,1]\n",
    "minCostClimbingStairs(cost)"
   ]
  },
  {
   "cell_type": "markdown",
   "metadata": {},
   "source": [
    "## Q6: LeetCode #62 Unique Paths\n",
    "https://leetcode.com/problems/unique-paths/description/?envType=study-plan&id=level-1"
   ]
  },
  {
   "cell_type": "code",
   "execution_count": 41,
   "metadata": {},
   "outputs": [],
   "source": [
    "def uniquePaths(m, n):\n",
    "    dp = [[1] * n for _ in range(m)]\n",
    "#     print(dp)\n",
    "    \n",
    "    # already initialized dp[0][0] = 1\n",
    "    # only interseted after dp[0][0]\n",
    "    # so index starts from 1.\n",
    "    for row in range(1,m):\n",
    "        for col in range(1,n):\n",
    "            dp[row][col] = dp[row-1][col] + dp[row][col-1]\n",
    "    print(dp)     \n",
    "    return dp[m-1][n-1] # index should be m or n - 1"
   ]
  },
  {
   "cell_type": "code",
   "execution_count": 40,
   "metadata": {},
   "outputs": [
    {
     "name": "stdout",
     "output_type": "stream",
     "text": [
      "[[1, 1, 1, 1, 1, 1, 1], [1, 2, 3, 4, 5, 6, 7], [1, 3, 6, 10, 15, 21, 28]]\n"
     ]
    },
    {
     "data": {
      "text/plain": [
       "28"
      ]
     },
     "execution_count": 40,
     "metadata": {},
     "output_type": "execute_result"
    }
   ],
   "source": [
    "uniquePaths(3, 7)"
   ]
  },
  {
   "cell_type": "code",
   "execution_count": 42,
   "metadata": {},
   "outputs": [
    {
     "name": "stdout",
     "output_type": "stream",
     "text": [
      "[[1, 1], [1, 2], [1, 3]]\n"
     ]
    },
    {
     "data": {
      "text/plain": [
       "3"
      ]
     },
     "execution_count": 42,
     "metadata": {},
     "output_type": "execute_result"
    }
   ],
   "source": [
    "uniquePaths(3, 2)"
   ]
  },
  {
   "cell_type": "markdown",
   "metadata": {},
   "source": [
    "## Q7: LeetCode #118 Pascal's Triangle\n",
    "https://leetcode.com/problems/pascals-triangle/"
   ]
  },
  {
   "cell_type": "code",
   "execution_count": 46,
   "metadata": {},
   "outputs": [],
   "source": [
    "def generate(numRows):\n",
    "    if numRows == 0:\n",
    "        return []\n",
    "    elif numRows == 1:\n",
    "        return [[1]]\n",
    "    \n",
    "    results = [[1]]\n",
    "    for i in range(1, numRows):\n",
    "        result = [1] * (i+1)\n",
    "        for j in range(1, i):\n",
    "            result[j] = results[i-1][j-1] + results[i-1][j]\n",
    "        results.append(result)\n",
    "    return results"
   ]
  },
  {
   "cell_type": "code",
   "execution_count": 47,
   "metadata": {},
   "outputs": [
    {
     "data": {
      "text/plain": [
       "[[1],\n",
       " [1, 1],\n",
       " [1, 2, 1],\n",
       " [1, 3, 3, 1],\n",
       " [1, 4, 6, 4, 1],\n",
       " [1, 5, 10, 10, 5, 1],\n",
       " [1, 6, 15, 20, 15, 6, 1]]"
      ]
     },
     "execution_count": 47,
     "metadata": {},
     "output_type": "execute_result"
    }
   ],
   "source": [
    "numRows = 7\n",
    "generate(numRows)"
   ]
  },
  {
   "cell_type": "code",
   "execution_count": 48,
   "metadata": {},
   "outputs": [
    {
     "data": {
      "text/plain": [
       "[[1],\n",
       " [1, 1],\n",
       " [1, 2, 1],\n",
       " [1, 3, 3, 1],\n",
       " [1, 4, 6, 4, 1],\n",
       " [1, 5, 10, 10, 5, 1],\n",
       " [1, 6, 15, 20, 15, 6, 1],\n",
       " [1, 7, 21, 35, 35, 21, 7, 1],\n",
       " [1, 8, 28, 56, 70, 56, 28, 8, 1],\n",
       " [1, 9, 36, 84, 126, 126, 84, 36, 9, 1],\n",
       " [1, 10, 45, 120, 210, 252, 210, 120, 45, 10, 1],\n",
       " [1, 11, 55, 165, 330, 462, 462, 330, 165, 55, 11, 1]]"
      ]
     },
     "execution_count": 48,
     "metadata": {},
     "output_type": "execute_result"
    }
   ],
   "source": [
    "numRows = 12\n",
    "generate(numRows)"
   ]
  },
  {
   "cell_type": "markdown",
   "metadata": {},
   "source": [
    "## Q8:LeetCode #121 Best Time to Buy and Sell Stock\n",
    "https://leetcode.com/problems/best-time-to-buy-and-sell-stock/"
   ]
  },
  {
   "cell_type": "code",
   "execution_count": 51,
   "metadata": {},
   "outputs": [],
   "source": [
    "def maxProfit(prices):\n",
    "    min_price = float('inf')\n",
    "    max_profit = 0\n",
    "    \n",
    "    for i in range(len(prices)):\n",
    "        if prices[i] < min_price:\n",
    "            min_price = prices[i]\n",
    "            \n",
    "        elif prices[i] - min_price > max_profit:\n",
    "            max_profit = prices[i] - min_price\n",
    "    return max_profit"
   ]
  },
  {
   "cell_type": "code",
   "execution_count": 52,
   "metadata": {},
   "outputs": [
    {
     "data": {
      "text/plain": [
       "5"
      ]
     },
     "execution_count": 52,
     "metadata": {},
     "output_type": "execute_result"
    }
   ],
   "source": [
    "prices = [7,1,5,3,6,4]\n",
    "maxProfit(prices)"
   ]
  },
  {
   "cell_type": "code",
   "execution_count": 53,
   "metadata": {},
   "outputs": [
    {
     "data": {
      "text/plain": [
       "0"
      ]
     },
     "execution_count": 53,
     "metadata": {},
     "output_type": "execute_result"
    }
   ],
   "source": [
    "prices = [7,6,4,3,1]\n",
    "maxProfit(prices)"
   ]
  },
  {
   "cell_type": "markdown",
   "metadata": {},
   "source": [
    "## Q9:LeetCode #392 Is Subsequence\n",
    "https://leetcode.com/problems/is-subsequence/"
   ]
  },
  {
   "cell_type": "code",
   "execution_count": 54,
   "metadata": {},
   "outputs": [],
   "source": [
    "def isSubsequence(s, t):\n",
    "    for i in range(len(s)):\n",
    "        if s[i] in t:\n",
    "            idx = t.index(s[i])\n",
    "            t = t[idx+1:]\n",
    "        else:\n",
    "            return False\n",
    "    return True"
   ]
  },
  {
   "cell_type": "code",
   "execution_count": 55,
   "metadata": {},
   "outputs": [
    {
     "data": {
      "text/plain": [
       "True"
      ]
     },
     "execution_count": 55,
     "metadata": {},
     "output_type": "execute_result"
    }
   ],
   "source": [
    "s = \"abc\"\n",
    "t = \"ahbgdc\"\n",
    "isSubsequence(s, t)"
   ]
  },
  {
   "cell_type": "code",
   "execution_count": 56,
   "metadata": {},
   "outputs": [
    {
     "data": {
      "text/plain": [
       "False"
      ]
     },
     "execution_count": 56,
     "metadata": {},
     "output_type": "execute_result"
    }
   ],
   "source": [
    "s = \"axc\"\n",
    "t = \"ahbgdc\"\n",
    "isSubsequence(s, t)"
   ]
  },
  {
   "cell_type": "markdown",
   "metadata": {},
   "source": [
    "## Q10: LeetCode #338 Counting Bits\n",
    "https://leetcode.com/problems/counting-bits/"
   ]
  },
  {
   "cell_type": "code",
   "execution_count": 14,
   "metadata": {},
   "outputs": [],
   "source": [
    "def countBits(n):\n",
    "    one_dict = dict()\n",
    "    one_dict[0] = 0\n",
    "    one_dict[1] = 1\n",
    "    one_dict[2] = 1    \n",
    "    result = []\n",
    "    \n",
    "    for num in range(n+1):\n",
    "        if num in one_dict:\n",
    "            result.append(one_dict[num])\n",
    "        else:\n",
    "            if num % 2 == 0:\n",
    "                one_dict[num] = one_dict[num / 2]\n",
    "            else:\n",
    "                one_dict[num] = 1 + one_dict[num // 2]\n",
    "            result.append(one_dict[num])\n",
    "    return result"
   ]
  },
  {
   "cell_type": "code",
   "execution_count": 15,
   "metadata": {},
   "outputs": [
    {
     "data": {
      "text/plain": [
       "[0, 1, 1]"
      ]
     },
     "execution_count": 15,
     "metadata": {},
     "output_type": "execute_result"
    }
   ],
   "source": [
    "n = 2\n",
    "countBits(n)"
   ]
  },
  {
   "cell_type": "code",
   "execution_count": 16,
   "metadata": {},
   "outputs": [
    {
     "data": {
      "text/plain": [
       "[0, 1, 1, 2, 1, 2]"
      ]
     },
     "execution_count": 16,
     "metadata": {},
     "output_type": "execute_result"
    }
   ],
   "source": [
    "n = 5\n",
    "countBits(n)"
   ]
  },
  {
   "cell_type": "code",
   "execution_count": 17,
   "metadata": {},
   "outputs": [
    {
     "data": {
      "text/plain": [
       "[0, 1, 1, 2, 1, 2, 2, 3, 1, 2, 2, 3, 2, 3, 3, 4, 1, 2]"
      ]
     },
     "execution_count": 17,
     "metadata": {},
     "output_type": "execute_result"
    }
   ],
   "source": [
    "n = 17\n",
    "countBits(n)"
   ]
  },
  {
   "cell_type": "markdown",
   "metadata": {},
   "source": [
    "## Q11: LeetCode #160 Intersection of Two Linked List\n",
    "https://leetcode.com/problems/intersection-of-two-linked-lists/"
   ]
  },
  {
   "cell_type": "code",
   "execution_count": 19,
   "metadata": {},
   "outputs": [],
   "source": [
    "class ListNode:\n",
    "    def __init__(self, val=0, next=None):\n",
    "        self.val = val\n",
    "        self.next = next"
   ]
  },
  {
   "cell_type": "code",
   "execution_count": 20,
   "metadata": {},
   "outputs": [],
   "source": [
    "def getIntersectionNode(headA, headB):\n",
    "    # use HashMap\n",
    "    heads_in_B = set()\n",
    "    \n",
    "    # Traverse headB and store the address/reference of each sequence in HashMap.\n",
    "    while headB:\n",
    "        heads_in_B.add(headB)\n",
    "        headB = headB.next\n",
    "        \n",
    "    while headA:\n",
    "        if headA in heads_in_B:\n",
    "            return headA\n",
    "        headA = headA.next\n",
    "        \n",
    "    return None"
   ]
  },
  {
   "cell_type": "code",
   "execution_count": 23,
   "metadata": {},
   "outputs": [],
   "source": [
    "headA = ListNode(4)\n",
    "headA.next = ListNode(1)\n",
    "headA.next.next = ListNode(8)\n",
    "headA.next.next.next = ListNode(4)\n",
    "headA.next.next.next.next = ListNode(5)"
   ]
  },
  {
   "cell_type": "code",
   "execution_count": 24,
   "metadata": {},
   "outputs": [],
   "source": [
    "headB = ListNode(5)\n",
    "headB.next = ListNode(6)\n",
    "headB.next.next = ListNode(1)\n",
    "headB.next.next.next = ListNode(8)\n",
    "headB.next.next.next.next = ListNode(4)\n",
    "headB.next.next.next.next.next = ListNode(5)"
   ]
  },
  {
   "cell_type": "code",
   "execution_count": 25,
   "metadata": {},
   "outputs": [],
   "source": [
    "getIntersectionNode(headA, headB)"
   ]
  },
  {
   "cell_type": "code",
   "execution_count": 26,
   "metadata": {},
   "outputs": [],
   "source": [
    "headA = ListNode(1)\n",
    "headA.next = ListNode(9)\n",
    "headA.next.next = ListNode(1)\n",
    "headA.next.next.next = ListNode(2)\n",
    "headA.next.next.next.next = ListNode(4)"
   ]
  },
  {
   "cell_type": "code",
   "execution_count": 27,
   "metadata": {},
   "outputs": [],
   "source": [
    "headB = ListNode(3)\n",
    "headB.next = ListNode(2)\n",
    "headB.next.next = ListNode(4)"
   ]
  },
  {
   "cell_type": "code",
   "execution_count": 28,
   "metadata": {},
   "outputs": [],
   "source": [
    "getIntersectionNode(headA, headB)"
   ]
  },
  {
   "cell_type": "markdown",
   "metadata": {},
   "source": [
    "## Q12:LeetCode #1646 Get Maximum in Generated Array\n",
    "https://leetcode.com/problems/get-maximum-in-generated-array/"
   ]
  },
  {
   "cell_type": "code",
   "execution_count": 47,
   "metadata": {},
   "outputs": [],
   "source": [
    "def getMaximumGenerated(n):\n",
    "    fib_dict = dict()\n",
    "    fib_dict[0] = 0\n",
    "    fib_dict[1] = 1\n",
    "    \n",
    "    def fib(n):\n",
    "        if n in fib_dict:\n",
    "            return fib_dict[n]\n",
    "        else:\n",
    "            if n % 2 == 0:\n",
    "                return fib_dict[n // 2]\n",
    "            else:\n",
    "#                 print(n)\n",
    "#                 print(fib(n // 2))\n",
    "#                 print(fib((n // 2) + 1))\n",
    "                left = fib(n // 2)\n",
    "                right = fib((n // 2) + 1)\n",
    "                fib_dict[n // 2] = left\n",
    "                fib_dict[(n // 2) + 1] = right\n",
    "                return left + right\n",
    "            \n",
    "    return max([fib(i) for i in range(n+1)])"
   ]
  },
  {
   "cell_type": "code",
   "execution_count": 48,
   "metadata": {},
   "outputs": [
    {
     "data": {
      "text/plain": [
       "3"
      ]
     },
     "execution_count": 48,
     "metadata": {},
     "output_type": "execute_result"
    }
   ],
   "source": [
    "n = 7\n",
    "getMaximumGenerated(n)"
   ]
  },
  {
   "cell_type": "code",
   "execution_count": 49,
   "metadata": {},
   "outputs": [
    {
     "data": {
      "text/plain": [
       "1"
      ]
     },
     "execution_count": 49,
     "metadata": {},
     "output_type": "execute_result"
    }
   ],
   "source": [
    "n = 2\n",
    "getMaximumGenerated(n)"
   ]
  },
  {
   "cell_type": "markdown",
   "metadata": {},
   "source": [
    "## Q13: LeetCode #1277 Count Square Submatrices with All Ones\n",
    "https://leetcode.com/problems/count-square-submatrices-with-all-ones/description/"
   ]
  },
  {
   "cell_type": "markdown",
   "metadata": {},
   "source": [
    "<img src = \"3.png\">"
   ]
  },
  {
   "cell_type": "code",
   "execution_count": 50,
   "metadata": {},
   "outputs": [],
   "source": [
    "from itertools import chain\n",
    "\n",
    "def countSquares(matrix):\n",
    "    dp_table = matrix.copy()\n",
    "    row, col = len(matrix), len(matrix[0])\n",
    "    \n",
    "    for i in range(1,row):\n",
    "        for j in range(1,col):\n",
    "            if matrix[i][j] == 1:\n",
    "                dp_table[i][j] = 1 + min(dp_table[i-1][j-1], dp_table[i][j-1], dp_table[i-1][j])\n",
    "                \n",
    "    return sum(chain(*dp_table))"
   ]
  },
  {
   "cell_type": "code",
   "execution_count": 51,
   "metadata": {},
   "outputs": [
    {
     "data": {
      "text/plain": [
       "15"
      ]
     },
     "execution_count": 51,
     "metadata": {},
     "output_type": "execute_result"
    }
   ],
   "source": [
    "matrix =[\n",
    "  [0,1,1,1],\n",
    "  [1,1,1,1],\n",
    "  [0,1,1,1]]\n",
    "\n",
    "countSquares(matrix)"
   ]
  },
  {
   "cell_type": "code",
   "execution_count": 52,
   "metadata": {},
   "outputs": [
    {
     "data": {
      "text/plain": [
       "7"
      ]
     },
     "execution_count": 52,
     "metadata": {},
     "output_type": "execute_result"
    }
   ],
   "source": [
    "matrix = [\n",
    "  [1,0,1],\n",
    "  [1,1,0],\n",
    "  [1,1,0]]\n",
    "countSquares(matrix)"
   ]
  },
  {
   "cell_type": "markdown",
   "metadata": {},
   "source": [
    "## Q14: LeetCode #22 Generate Parentheses\n",
    "https://leetcode.com/problems/generate-parentheses/\n",
    "\n",
    "\t\t\t\t\t\t\t\t   (0, 0, '')\n",
    "\t\t\t\t\t\t\t\t \t    |\t\n",
    "\t\t\t\t\t\t\t\t\t(1, 0, '(')  \n",
    "\t\t\t\t\t\t\t\t   /           \\\n",
    "\t\t\t\t\t\t\t(2, 0, '((')      (1, 1, '()')\n",
    "\t\t\t\t\t\t\t   /                 \\\n",
    "\t\t\t\t\t\t(2, 1, '(()')           (2, 1, '()(')\n",
    "\t\t\t\t\t\t   /                       \\\n",
    "\t\t\t\t\t(2, 2, '(())')                (2, 2, '()()')\n",
    "\t\t\t\t\t\t      |\t                             |\n",
    "\t\t\t\t\tres.append('(())')             res.append('()()')"
   ]
  },
  {
   "cell_type": "code",
   "execution_count": 54,
   "metadata": {},
   "outputs": [],
   "source": [
    "def generateParentheses(n):\n",
    "    def dfs(left, right, s):\n",
    "        if len(s) == 2 * n:\n",
    "            result.append(s)\n",
    "            return\n",
    "        \n",
    "        if left < n:\n",
    "            dfs(left + 1, right, s + '(')\n",
    "            \n",
    "        if left > right:\n",
    "            dfs(left, right + 1, s + ')')\n",
    "            \n",
    "    result = []\n",
    "    dfs(0, 0, \"\")\n",
    "    return result"
   ]
  },
  {
   "cell_type": "code",
   "execution_count": 55,
   "metadata": {},
   "outputs": [
    {
     "data": {
      "text/plain": [
       "['(())', '()()']"
      ]
     },
     "execution_count": 55,
     "metadata": {},
     "output_type": "execute_result"
    }
   ],
   "source": [
    "n = 2\n",
    "generateParentheses(n)"
   ]
  },
  {
   "cell_type": "code",
   "execution_count": 56,
   "metadata": {},
   "outputs": [
    {
     "data": {
      "text/plain": [
       "['((()))', '(()())', '(())()', '()(())', '()()()']"
      ]
     },
     "execution_count": 56,
     "metadata": {},
     "output_type": "execute_result"
    }
   ],
   "source": [
    "n = 3\n",
    "generateParentheses(n)"
   ]
  },
  {
   "cell_type": "code",
   "execution_count": null,
   "metadata": {},
   "outputs": [],
   "source": []
  }
 ],
 "metadata": {
  "kernelspec": {
   "display_name": "Python 3",
   "language": "python",
   "name": "python3"
  },
  "language_info": {
   "codemirror_mode": {
    "name": "ipython",
    "version": 3
   },
   "file_extension": ".py",
   "mimetype": "text/x-python",
   "name": "python",
   "nbconvert_exporter": "python",
   "pygments_lexer": "ipython3",
   "version": "3.8.8"
  }
 },
 "nbformat": 4,
 "nbformat_minor": 4
}
