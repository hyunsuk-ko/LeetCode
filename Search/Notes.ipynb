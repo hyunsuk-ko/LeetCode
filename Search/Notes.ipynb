{
 "cells": [
  {
   "cell_type": "markdown",
   "metadata": {},
   "source": [
    "### Q1: LeetCode #98 Validate Binary Search Tree\n",
    "https://leetcode.com/problems/validate-binary-search-tree/description/?envType=study-plan&id=level-1"
   ]
  },
  {
   "cell_type": "code",
   "execution_count": 1,
   "metadata": {},
   "outputs": [],
   "source": [
    "class TreeNode:\n",
    "    def __init__(self, x):\n",
    "        self.val = x\n",
    "        self.left = None\n",
    "        self.right = None"
   ]
  },
  {
   "cell_type": "code",
   "execution_count": 6,
   "metadata": {},
   "outputs": [],
   "source": [
    "import math\n",
    "\n",
    "def isValidBST(root):\n",
    "    def validate(node, lower_bound = -math.inf, upper_bound = math.inf):\n",
    "        if not node:\n",
    "            return True\n",
    "        \n",
    "        # if it does not satisfy the BST's rule, return false.\n",
    "        if node.val <= lower_bound or node.val >= upper_bound:\n",
    "            return False\n",
    "        \n",
    "        # Keep lb and ub to verify whether it meets the requirement.\n",
    "        return (validate(node.left, lower_bound, node.val) and validate(node.right, node.val, upper_bound))\n",
    "    \n",
    "    return validate(root)"
   ]
  },
  {
   "cell_type": "code",
   "execution_count": 3,
   "metadata": {},
   "outputs": [
    {
     "data": {
      "text/plain": [
       "True"
      ]
     },
     "execution_count": 3,
     "metadata": {},
     "output_type": "execute_result"
    }
   ],
   "source": [
    "tree = TreeNode(2)\n",
    "tree.left = TreeNode(1)\n",
    "tree.right = TreeNode(3)\n",
    "isValidBST(tree)"
   ]
  },
  {
   "cell_type": "code",
   "execution_count": 4,
   "metadata": {},
   "outputs": [
    {
     "data": {
      "text/plain": [
       "True"
      ]
     },
     "execution_count": 4,
     "metadata": {},
     "output_type": "execute_result"
    }
   ],
   "source": [
    "tree = TreeNode(2)\n",
    "tree.left = TreeNode(1)\n",
    "tree.right = TreeNode(3)\n",
    "isValidBST(tree)"
   ]
  },
  {
   "cell_type": "markdown",
   "metadata": {},
   "source": [
    "### Q2: LeetCode #235 Lowest Common Ancestor\n",
    "https://leetcode.com/problems/lowest-common-ancestor-of-a-binary-search-tree/?envType=study-plan&id=level-1"
   ]
  },
  {
   "cell_type": "code",
   "execution_count": 12,
   "metadata": {},
   "outputs": [],
   "source": [
    "def lowestCommonAncestor(root, p, q):\n",
    "    root_val = root.val\n",
    "    p_val = p.val\n",
    "    q_val = q.val\n",
    "    \n",
    "    # if both p & q are smaller than root value,\n",
    "    # we only iterate through the left subtree\n",
    "    if p_val < root_val and q_val < root_val:\n",
    "        return lowestCommonAncestor(root.left, p, q)\n",
    "    \n",
    "    # if both p & q are bigger than root value,\n",
    "    # we only iterate through the right subtree\n",
    "    elif p_val > root_val and q_val > root_val:\n",
    "        return lowestCommonAncestor(root.right, p, q)\n",
    "    \n",
    "    # else, common ancestor is the root node\n",
    "    else:\n",
    "        return root.val"
   ]
  },
  {
   "cell_type": "code",
   "execution_count": 13,
   "metadata": {},
   "outputs": [
    {
     "data": {
      "text/plain": [
       "6"
      ]
     },
     "execution_count": 13,
     "metadata": {},
     "output_type": "execute_result"
    }
   ],
   "source": [
    "tree = TreeNode(6)\n",
    "tree.left = TreeNode(2)\n",
    "tree.right = TreeNode(8)\n",
    "tree.left.left = TreeNode(0)\n",
    "tree.left.right = TreeNode(4)\n",
    "tree.right.left = TreeNode(3)\n",
    "tree.right.right = TreeNode(5)\n",
    "tree.right.left = TreeNode(7)\n",
    "tree.right.right = TreeNode(9)\n",
    "\n",
    "lowestCommonAncestor(tree, tree.left, tree.right)"
   ]
  },
  {
   "cell_type": "code",
   "execution_count": 14,
   "metadata": {},
   "outputs": [
    {
     "data": {
      "text/plain": [
       "2"
      ]
     },
     "execution_count": 14,
     "metadata": {},
     "output_type": "execute_result"
    }
   ],
   "source": [
    "tree = TreeNode(6)\n",
    "tree.left = TreeNode(2) #\n",
    "tree.right = TreeNode(8)\n",
    "tree.left.left = TreeNode(0)\n",
    "tree.left.right = TreeNode(4) #\n",
    "tree.right.left = TreeNode(3)\n",
    "tree.right.right = TreeNode(5)\n",
    "tree.right.left = TreeNode(7)\n",
    "tree.right.right = TreeNode(9)\n",
    "\n",
    "lowestCommonAncestor(tree, tree.left, tree.left.right)"
   ]
  },
  {
   "cell_type": "code",
   "execution_count": 15,
   "metadata": {},
   "outputs": [
    {
     "data": {
      "text/plain": [
       "2"
      ]
     },
     "execution_count": 15,
     "metadata": {},
     "output_type": "execute_result"
    }
   ],
   "source": [
    "tree = TreeNode(2)\n",
    "tree.left = TreeNode(1) #\n",
    "\n",
    "lowestCommonAncestor(tree, tree, tree.left)"
   ]
  },
  {
   "cell_type": "markdown",
   "metadata": {},
   "source": [
    "### Q3: LeetCode #617 Merge Two Binary Trees\n",
    "https://leetcode.com/problems/merge-two-binary-trees/"
   ]
  },
  {
   "cell_type": "code",
   "execution_count": 20,
   "metadata": {},
   "outputs": [],
   "source": [
    "def mergeTrees(t1, t2):\n",
    "    if not t1:\n",
    "        return t2\n",
    "    elif not t2:\n",
    "        return t1\n",
    "    else:\n",
    "        tree = TreeNode(t1.val + t2.val)\n",
    "        tree.left = mergeTrees(t1.left, t2.left)\n",
    "        tree.right = mergeTrees(t1.right, t2.right)\n",
    "    return tree"
   ]
  },
  {
   "cell_type": "code",
   "execution_count": 21,
   "metadata": {},
   "outputs": [],
   "source": [
    "t1 = TreeNode(1)\n",
    "t1.left = TreeNode(3)\n",
    "t1.right = TreeNode(2)\n",
    "t1.left.left = TreeNode(5)\n",
    "\n",
    "t2 = TreeNode(2)\n",
    "t2.left = TreeNode(1)\n",
    "t2.right = TreeNode(3)\n",
    "t2.left.right = TreeNode(4)\n",
    "t2.right.right = TreeNode(7)"
   ]
  },
  {
   "cell_type": "code",
   "execution_count": 22,
   "metadata": {},
   "outputs": [
    {
     "data": {
      "text/plain": [
       "<__main__.TreeNode at 0x7f07940acbb0>"
      ]
     },
     "execution_count": 22,
     "metadata": {},
     "output_type": "execute_result"
    }
   ],
   "source": [
    "mergeTrees(t1, t2)"
   ]
  },
  {
   "cell_type": "markdown",
   "metadata": {},
   "source": [
    "### Q4: LeetCode #226 Invert Binary Tree\n",
    "https://leetcode.com/problems/invert-binary-tree/description/"
   ]
  },
  {
   "cell_type": "code",
   "execution_count": 23,
   "metadata": {},
   "outputs": [],
   "source": [
    "def invertTree(root):\n",
    "    if not root:\n",
    "        return None\n",
    "    \n",
    "    right_temp = invertTree(root.right)\n",
    "    left_temp = invertTree(root.left)\n",
    "    root.right = left_temp\n",
    "    root.left = right_temp\n",
    "    \n",
    "    return root"
   ]
  },
  {
   "cell_type": "code",
   "execution_count": 24,
   "metadata": {},
   "outputs": [
    {
     "data": {
      "text/plain": [
       "<__main__.TreeNode at 0x7f07940b1490>"
      ]
     },
     "execution_count": 24,
     "metadata": {},
     "output_type": "execute_result"
    }
   ],
   "source": [
    "root = TreeNode(4)\n",
    "root.left = TreeNode(2)\n",
    "root.right = TreeNode(7)\n",
    "root.left.left = TreeNode(1)\n",
    "root.left.right = TreeNode(3)\n",
    "root.right.left = TreeNode(6)\n",
    "root.right.right = TreeNode(9)\n",
    "invertTree(root)"
   ]
  },
  {
   "cell_type": "code",
   "execution_count": 25,
   "metadata": {},
   "outputs": [
    {
     "data": {
      "text/plain": [
       "<__main__.TreeNode at 0x7f07940b16a0>"
      ]
     },
     "execution_count": 25,
     "metadata": {},
     "output_type": "execute_result"
    }
   ],
   "source": [
    "root = TreeNode(2)\n",
    "root.left = TreeNode(1)\n",
    "root.right = TreeNode(3)\n",
    "invertTree(root)"
   ]
  },
  {
   "cell_type": "markdown",
   "metadata": {},
   "source": [
    "### Q5: LeetCode #104 Maximum Depth of Binary Tree\n",
    "https://leetcode.com/problems/maximum-depth-of-binary-tree/"
   ]
  },
  {
   "cell_type": "code",
   "execution_count": 30,
   "metadata": {},
   "outputs": [],
   "source": [
    "def maxDepth(root):\n",
    "    if not root:\n",
    "        return 0\n",
    "    if not root.left and not root.right:\n",
    "        return 1\n",
    "    \n",
    "    left_count = 1 + maxDepth(root.left)\n",
    "    right_count = 1 + maxDepth(root.right)\n",
    "    \n",
    "    return max(left_count, right_count)"
   ]
  },
  {
   "cell_type": "code",
   "execution_count": 31,
   "metadata": {},
   "outputs": [
    {
     "data": {
      "text/plain": [
       "3"
      ]
     },
     "execution_count": 31,
     "metadata": {},
     "output_type": "execute_result"
    }
   ],
   "source": [
    "root = TreeNode(3)\n",
    "root.left = TreeNode(9)\n",
    "root.right = TreeNode(20)\n",
    "root.right.left = TreeNode(15)\n",
    "root.right.right = TreeNode(7)\n",
    "maxDepth(root)"
   ]
  },
  {
   "cell_type": "code",
   "execution_count": 32,
   "metadata": {},
   "outputs": [
    {
     "data": {
      "text/plain": [
       "2"
      ]
     },
     "execution_count": 32,
     "metadata": {},
     "output_type": "execute_result"
    }
   ],
   "source": [
    "root = TreeNode(1)\n",
    "root.left = TreeNode(2)\n",
    "maxDepth(root)"
   ]
  },
  {
   "cell_type": "markdown",
   "metadata": {},
   "source": [
    "### Q6: LeetCode #852 Peak Index in a Mountain Array\n",
    "https://leetcode.com/problems/peak-index-in-a-mountain-array/"
   ]
  },
  {
   "cell_type": "code",
   "execution_count": 35,
   "metadata": {},
   "outputs": [],
   "source": [
    "def peakIndexInMountainArray(arr):\n",
    "    start, end = 0, len(arr) - 1\n",
    "    \n",
    "    while start <= end:\n",
    "        mid = (start + end) // 2\n",
    "        \n",
    "        if arr[mid-1] < arr[mid] and arr[mid] > arr[mid+1]:\n",
    "            return mid\n",
    "        \n",
    "        elif arr[mid-1] > arr[mid]:\n",
    "            end = mid\n",
    "            \n",
    "        else:\n",
    "            start = mid"
   ]
  },
  {
   "cell_type": "code",
   "execution_count": 36,
   "metadata": {},
   "outputs": [
    {
     "data": {
      "text/plain": [
       "1"
      ]
     },
     "execution_count": 36,
     "metadata": {},
     "output_type": "execute_result"
    }
   ],
   "source": [
    "arr = [0,1,0]\n",
    "peakIndexInMountainArray(arr)"
   ]
  },
  {
   "cell_type": "code",
   "execution_count": 37,
   "metadata": {},
   "outputs": [
    {
     "data": {
      "text/plain": [
       "1"
      ]
     },
     "execution_count": 37,
     "metadata": {},
     "output_type": "execute_result"
    }
   ],
   "source": [
    "arr = [0,2,1,0]\n",
    "peakIndexInMountainArray(arr)"
   ]
  },
  {
   "cell_type": "code",
   "execution_count": 38,
   "metadata": {},
   "outputs": [
    {
     "data": {
      "text/plain": [
       "1"
      ]
     },
     "execution_count": 38,
     "metadata": {},
     "output_type": "execute_result"
    }
   ],
   "source": [
    "arr = [0,10,5,2]\n",
    "peakIndexInMountainArray(arr)"
   ]
  },
  {
   "cell_type": "markdown",
   "metadata": {},
   "source": [
    "### Q7: LeetCode #108 Convert Sorted Array to Binary Search Tree\n",
    "https://leetcode.com/problems/convert-sorted-array-to-binary-search-tree/"
   ]
  },
  {
   "cell_type": "code",
   "execution_count": 40,
   "metadata": {},
   "outputs": [],
   "source": [
    "def sortedArrayToBST(nums):\n",
    "    def createBST(nums, start, end):\n",
    "        if start > end:\n",
    "            return None\n",
    "        \n",
    "        mid = (start + end) // 2\n",
    "        root = TreeNode(nums[mid])\n",
    "        root.left = createBST(nums, start, mid - 1)\n",
    "        root.right = createBST(nums, mid + 1, start)\n",
    "        \n",
    "        return root\n",
    "    \n",
    "    return createBST(nums, 0, len(nums) - 1)"
   ]
  },
  {
   "cell_type": "code",
   "execution_count": 41,
   "metadata": {},
   "outputs": [
    {
     "data": {
      "text/plain": [
       "<__main__.TreeNode at 0x7f078d7b0ac0>"
      ]
     },
     "execution_count": 41,
     "metadata": {},
     "output_type": "execute_result"
    }
   ],
   "source": [
    "nums = [-10,-3,0,5,9]\n",
    "sortedArrayToBST(nums)"
   ]
  },
  {
   "cell_type": "code",
   "execution_count": 42,
   "metadata": {},
   "outputs": [
    {
     "data": {
      "text/plain": [
       "<__main__.TreeNode at 0x7f0794086940>"
      ]
     },
     "execution_count": 42,
     "metadata": {},
     "output_type": "execute_result"
    }
   ],
   "source": [
    "nums = [1,3]\n",
    "sortedArrayToBST(nums)"
   ]
  },
  {
   "cell_type": "code",
   "execution_count": null,
   "metadata": {},
   "outputs": [],
   "source": []
  }
 ],
 "metadata": {
  "kernelspec": {
   "display_name": "Python 3",
   "language": "python",
   "name": "python3"
  },
  "language_info": {
   "codemirror_mode": {
    "name": "ipython",
    "version": 3
   },
   "file_extension": ".py",
   "mimetype": "text/x-python",
   "name": "python",
   "nbconvert_exporter": "python",
   "pygments_lexer": "ipython3",
   "version": "3.8.8"
  }
 },
 "nbformat": 4,
 "nbformat_minor": 4
}
